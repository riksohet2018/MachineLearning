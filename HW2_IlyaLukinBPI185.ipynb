{
  "nbformat": 4,
  "nbformat_minor": 0,
  "metadata": {
    "colab": {
      "name": "HW2_IlyaLukinBPI185.ipynb",
      "provenance": [],
      "collapsed_sections": []
    },
    "kernelspec": {
      "name": "python3",
      "display_name": "Python 3"
    }
  },
  "cells": [
    {
      "cell_type": "code",
      "metadata": {
        "id": "ALQkH5lFdswQ",
        "colab": {
          "base_uri": "https://localhost:8080/"
        },
        "outputId": "59613685-8834-43c1-cc3c-118fadf8ad3a"
      },
      "source": [
        "import pandas as pd\r\n",
        "import numpy as np\r\n",
        "import matplotlib.pyplot as plt\r\n",
        "import seaborn as sns\r\n",
        "import sklearn\r\n",
        "from sklearn import datasets\r\n",
        "from sklearn.datasets import load_boston\r\n",
        "from sklearn.model_selection import train_test_split\r\n",
        "from sklearn.metrics import mean_squared_error, r2_score\r\n",
        "from sklearn.linear_model import Ridge, Lasso,  LinearRegression, RidgeCV\r\n",
        "from sklearn.preprocessing import StandardScaler, MinMaxScaler, RobustScaler, Normalizer\r\n",
        "from sklearn.svm import SVC\r\n",
        "import statsmodels.api as sm\r\n",
        "%matplotlib inline\r\n",
        "\r\n",
        "sns.set(style=\"darkgrid\")"
      ],
      "execution_count": 1,
      "outputs": [
        {
          "output_type": "stream",
          "text": [
            "/usr/local/lib/python3.7/dist-packages/statsmodels/tools/_testing.py:19: FutureWarning: pandas.util.testing is deprecated. Use the functions in the public API at pandas.testing instead.\n",
            "  import pandas.util.testing as tm\n"
          ],
          "name": "stderr"
        }
      ]
    },
    {
      "cell_type": "code",
      "metadata": {
        "id": "dgks4Uygd32M"
      },
      "source": [
        "df = load_boston() # load dataset\r\n",
        "\r\n",
        "X = df.data\r\n",
        "y = df.target\r\n",
        "columns = df.feature_names\r\n"
      ],
      "execution_count": 2,
      "outputs": []
    },
    {
      "cell_type": "markdown",
      "metadata": {
        "id": "4Qv4MqpSeqar"
      },
      "source": [
        "# **Linear regression**"
      ]
    },
    {
      "cell_type": "markdown",
      "metadata": {
        "id": "gOXPwgb6evxi"
      },
      "source": [
        "1.[0.5 points] Create Pandas DataFrame and split the data into train and test sets with ratio 80:20 with random_state=0."
      ]
    },
    {
      "cell_type": "code",
      "metadata": {
        "colab": {
          "base_uri": "https://localhost:8080/",
          "height": 229
        },
        "id": "SC3ZRHKTeOrN",
        "outputId": "efdaf792-536a-4a5c-c272-687a49ec28fb"
      },
      "source": [
        "df = pd.DataFrame(X, columns=columns)\r\n",
        "X_train, X_test, y_train, y_test = train_test_split (df, y, test_size = 0.2, train_size=0.8, random_state=0)\r\n",
        "print(X_train.shape, y_train.shape) \r\n",
        "print(X_test.shape, y_test.shape)\r\n",
        "df.head()"
      ],
      "execution_count": 3,
      "outputs": [
        {
          "output_type": "stream",
          "text": [
            "(404, 13) (404,)\n",
            "(102, 13) (102,)\n"
          ],
          "name": "stdout"
        },
        {
          "output_type": "execute_result",
          "data": {
            "text/html": [
              "<div>\n",
              "<style scoped>\n",
              "    .dataframe tbody tr th:only-of-type {\n",
              "        vertical-align: middle;\n",
              "    }\n",
              "\n",
              "    .dataframe tbody tr th {\n",
              "        vertical-align: top;\n",
              "    }\n",
              "\n",
              "    .dataframe thead th {\n",
              "        text-align: right;\n",
              "    }\n",
              "</style>\n",
              "<table border=\"1\" class=\"dataframe\">\n",
              "  <thead>\n",
              "    <tr style=\"text-align: right;\">\n",
              "      <th></th>\n",
              "      <th>CRIM</th>\n",
              "      <th>ZN</th>\n",
              "      <th>INDUS</th>\n",
              "      <th>CHAS</th>\n",
              "      <th>NOX</th>\n",
              "      <th>RM</th>\n",
              "      <th>AGE</th>\n",
              "      <th>DIS</th>\n",
              "      <th>RAD</th>\n",
              "      <th>TAX</th>\n",
              "      <th>PTRATIO</th>\n",
              "      <th>B</th>\n",
              "      <th>LSTAT</th>\n",
              "    </tr>\n",
              "  </thead>\n",
              "  <tbody>\n",
              "    <tr>\n",
              "      <th>0</th>\n",
              "      <td>0.00632</td>\n",
              "      <td>18.0</td>\n",
              "      <td>2.31</td>\n",
              "      <td>0.0</td>\n",
              "      <td>0.538</td>\n",
              "      <td>6.575</td>\n",
              "      <td>65.2</td>\n",
              "      <td>4.0900</td>\n",
              "      <td>1.0</td>\n",
              "      <td>296.0</td>\n",
              "      <td>15.3</td>\n",
              "      <td>396.90</td>\n",
              "      <td>4.98</td>\n",
              "    </tr>\n",
              "    <tr>\n",
              "      <th>1</th>\n",
              "      <td>0.02731</td>\n",
              "      <td>0.0</td>\n",
              "      <td>7.07</td>\n",
              "      <td>0.0</td>\n",
              "      <td>0.469</td>\n",
              "      <td>6.421</td>\n",
              "      <td>78.9</td>\n",
              "      <td>4.9671</td>\n",
              "      <td>2.0</td>\n",
              "      <td>242.0</td>\n",
              "      <td>17.8</td>\n",
              "      <td>396.90</td>\n",
              "      <td>9.14</td>\n",
              "    </tr>\n",
              "    <tr>\n",
              "      <th>2</th>\n",
              "      <td>0.02729</td>\n",
              "      <td>0.0</td>\n",
              "      <td>7.07</td>\n",
              "      <td>0.0</td>\n",
              "      <td>0.469</td>\n",
              "      <td>7.185</td>\n",
              "      <td>61.1</td>\n",
              "      <td>4.9671</td>\n",
              "      <td>2.0</td>\n",
              "      <td>242.0</td>\n",
              "      <td>17.8</td>\n",
              "      <td>392.83</td>\n",
              "      <td>4.03</td>\n",
              "    </tr>\n",
              "    <tr>\n",
              "      <th>3</th>\n",
              "      <td>0.03237</td>\n",
              "      <td>0.0</td>\n",
              "      <td>2.18</td>\n",
              "      <td>0.0</td>\n",
              "      <td>0.458</td>\n",
              "      <td>6.998</td>\n",
              "      <td>45.8</td>\n",
              "      <td>6.0622</td>\n",
              "      <td>3.0</td>\n",
              "      <td>222.0</td>\n",
              "      <td>18.7</td>\n",
              "      <td>394.63</td>\n",
              "      <td>2.94</td>\n",
              "    </tr>\n",
              "    <tr>\n",
              "      <th>4</th>\n",
              "      <td>0.06905</td>\n",
              "      <td>0.0</td>\n",
              "      <td>2.18</td>\n",
              "      <td>0.0</td>\n",
              "      <td>0.458</td>\n",
              "      <td>7.147</td>\n",
              "      <td>54.2</td>\n",
              "      <td>6.0622</td>\n",
              "      <td>3.0</td>\n",
              "      <td>222.0</td>\n",
              "      <td>18.7</td>\n",
              "      <td>396.90</td>\n",
              "      <td>5.33</td>\n",
              "    </tr>\n",
              "  </tbody>\n",
              "</table>\n",
              "</div>"
            ],
            "text/plain": [
              "      CRIM    ZN  INDUS  CHAS    NOX  ...  RAD    TAX  PTRATIO       B  LSTAT\n",
              "0  0.00632  18.0   2.31   0.0  0.538  ...  1.0  296.0     15.3  396.90   4.98\n",
              "1  0.02731   0.0   7.07   0.0  0.469  ...  2.0  242.0     17.8  396.90   9.14\n",
              "2  0.02729   0.0   7.07   0.0  0.469  ...  2.0  242.0     17.8  392.83   4.03\n",
              "3  0.03237   0.0   2.18   0.0  0.458  ...  3.0  222.0     18.7  394.63   2.94\n",
              "4  0.06905   0.0   2.18   0.0  0.458  ...  3.0  222.0     18.7  396.90   5.33\n",
              "\n",
              "[5 rows x 13 columns]"
            ]
          },
          "metadata": {
            "tags": []
          },
          "execution_count": 3
        }
      ]
    },
    {
      "cell_type": "markdown",
      "metadata": {
        "id": "sGZ3w8F1HVc7"
      },
      "source": [
        " 2.Train models on train data using StatsModels library and apply it to the test set; use $RMSE$ and $R^2$ as the quality measure\r\n",
        "*   LinearRegression;\r\n",
        "*   Ridge with $\\alpha = 0.01$;\r\n",
        "*   Lasso with $\\alpha = 0.01$\r\n",
        "\r\n",
        "Don't forget to scale the data before training the models with StandardScaler!"
      ]
    },
    {
      "cell_type": "code",
      "metadata": {
        "colab": {
          "base_uri": "https://localhost:8080/"
        },
        "id": "_zgHMdlCHYdW",
        "outputId": "9d9acebe-5894-4972-92f5-4425eaf609c9"
      },
      "source": [
        "reg_line = LinearRegression()\r\n",
        "reg_line.fit(X_train, y_train)\r\n",
        "\r\n",
        "y_pred = reg_line.predict(X_test)\r\n",
        "y_pred1 = reg_line.predict(X_train)\r\n",
        "\r\n",
        "#Без StandartScaler\r\n",
        "print('Without StandartScaler')\r\n",
        "r_sqrt_test = reg_line.score(X_test,y_test)\r\n",
        "print('Test R^2:{}'.format(r_sqrt_test))\r\n",
        "rmse_test=np.sqrt(mean_squared_error(y_test,y_pred))\r\n",
        "print('Test RMSE:{}'.format(rmse_test))\r\n",
        "print()\r\n",
        "\r\n",
        "r_sqrt_train = reg_line.score(X_train,y_train)\r\n",
        "print('Train R^2:{}'.format(r_sqrt_train))\r\n",
        "rmse_train=np.sqrt(mean_squared_error(y_train,y_pred1))\r\n",
        "print('Train RMSE:{}'.format(rmse_train))\r\n",
        "print()\r\n",
        "\r\n",
        "#StandartScaler\r\n",
        "print('With StandartScaler')\r\n",
        "scaler = StandardScaler()\r\n",
        "X_train_standart = scaler.fit_transform(X_train)\r\n",
        "X_test_standart = scaler.fit_transform(X_test)\r\n",
        "\r\n",
        "reg_line.fit(X_train_standart, y_train)\r\n",
        "y_predSTest = reg_line.predict(X_test_standart)\r\n",
        "y_predSTrain = reg_line.predict(X_train_standart)\r\n",
        "\r\n",
        "r_sqrt_test_st = reg_line.score(X_test_standart,y_test)\r\n",
        "print('Test R^2:{}'.format(r_sqrt_test_st))\r\n",
        "rmse_testSt=np.sqrt(mean_squared_error(y_test,y_predSTest))\r\n",
        "print('Test RMSE:{}'.format(rmse_testSt))\r\n",
        "print()\r\n",
        "\r\n",
        "r_sqrt_train_st = reg_line.score(X_train_standart,y_train)\r\n",
        "print('Train R^2:{}'.format(r_sqrt_train_st))\r\n",
        "rmse_trainSt=np.sqrt(mean_squared_error(y_train,y_predSTrain))\r\n",
        "print('Train RMSE:{}'.format(rmse_trainSt))\r\n",
        "print() \r\n",
        "\r\n",
        "#Ridge\r\n",
        "ridge = Ridge(alpha=0.01)\r\n",
        "ridge.fit(X_train_standart,y_train)\r\n",
        "\r\n",
        "ridge_test = ridge.score(X_test_standart, y_test)\r\n",
        "print('Test Ridge:',ridge_test)\r\n",
        "\r\n",
        "ridge_train = ridge.score(X_train_standart, y_train)\r\n",
        "print('Train Ridge:',ridge_train)\r\n",
        "print()\r\n",
        "\r\n",
        "#Lasso\r\n",
        "la = Lasso(alpha=0.01)\r\n",
        "la.fit(X_train_standart, y_train)\r\n",
        "\r\n",
        "lasso_test = la.score(X_test_standart, y_test)\r\n",
        "print('Test Lasso:',lasso_test)\r\n",
        "\r\n",
        "lasso_train = la.score(X_train_standart, y_train)\r\n",
        "print('Train Lasso:',lasso_train)"
      ],
      "execution_count": 4,
      "outputs": [
        {
          "output_type": "stream",
          "text": [
            "Without StandartScaler\n",
            "Test R^2:0.5892223849182512\n",
            "Test RMSE:5.783509315085133\n",
            "\n",
            "Train R^2:0.7730135569264233\n",
            "Train RMSE:4.396188144698282\n",
            "\n",
            "With StandartScaler\n",
            "Test R^2:0.5687450086990022\n",
            "Test RMSE:5.925910966196944\n",
            "\n",
            "Train R^2:0.7730135569264234\n",
            "Train RMSE:4.396188144698282\n",
            "\n",
            "Test Ridge: 0.5687360532074364\n",
            "Train Ridge: 0.7730135553534745\n",
            "\n",
            "Test Lasso: 0.5671410392490959\n",
            "Train Lasso: 0.7729557113377096\n"
          ],
          "name": "stdout"
        }
      ]
    },
    {
      "cell_type": "markdown",
      "metadata": {
        "id": "58-g9_32e6Zj"
      },
      "source": [
        "3.Explore the values of the parameters of the resulting models and compare the number of zero weights in them. Comment on the significance of the coefficients, overal model significance and other related factors from the results table"
      ]
    },
    {
      "cell_type": "code",
      "metadata": {
        "colab": {
          "base_uri": "https://localhost:8080/"
        },
        "id": "eb3_8nkrWSFf",
        "outputId": "a5bd9eba-285a-49c2-a8d1-1f8ffa236948"
      },
      "source": [
        "reg_line.coef_"
      ],
      "execution_count": 5,
      "outputs": [
        {
          "output_type": "execute_result",
          "data": {
            "text/plain": [
              "array([-0.97082019,  1.05714873,  0.03831099,  0.59450642, -1.8551476 ,\n",
              "        2.57321942, -0.08761547, -2.88094259,  2.11224542, -1.87533131,\n",
              "       -2.29276735,  0.71817947, -3.59245482])"
            ]
          },
          "metadata": {
            "tags": []
          },
          "execution_count": 5
        }
      ]
    },
    {
      "cell_type": "code",
      "metadata": {
        "colab": {
          "base_uri": "https://localhost:8080/"
        },
        "id": "oPHrQAJ7Wu3j",
        "outputId": "c2b4cd6f-b6d5-4dd5-8354-6d319dd58794"
      },
      "source": [
        "ridge.coef_"
      ],
      "execution_count": 6,
      "outputs": [
        {
          "output_type": "execute_result",
          "data": {
            "text/plain": [
              "array([-0.97073209,  1.05698134,  0.03803375,  0.59455017, -1.85478991,\n",
              "        2.57332859, -0.08769363, -2.88061155,  2.11145769, -1.87461001,\n",
              "       -2.29266974,  0.71818063, -3.59228891])"
            ]
          },
          "metadata": {
            "tags": []
          },
          "execution_count": 6
        }
      ]
    },
    {
      "cell_type": "code",
      "metadata": {
        "colab": {
          "base_uri": "https://localhost:8080/"
        },
        "id": "ur7Njl0tWuY1",
        "outputId": "1200986a-8c54-40e1-d0a5-dda86175739e"
      },
      "source": [
        "la.coef_"
      ],
      "execution_count": 7,
      "outputs": [
        {
          "output_type": "execute_result",
          "data": {
            "text/plain": [
              "array([-0.94030242,  1.02158196, -0.        ,  0.59484   , -1.80407492,\n",
              "        2.58539827, -0.06948607, -2.8093653 ,  1.9561087 , -1.73828424,\n",
              "       -2.27884087,  0.70548427, -3.59639789])"
            ]
          },
          "metadata": {
            "tags": []
          },
          "execution_count": 7
        }
      ]
    },
    {
      "cell_type": "markdown",
      "metadata": {
        "id": "myaBXhFBXwGO"
      },
      "source": [
        "Вывод: если мы посмотрим на третий элемент, то увидим, что Lasso убирает шум и \r\n",
        "маленький по значению элемент превращает в 0 (незначимый) "
      ]
    },
    {
      "cell_type": "markdown",
      "metadata": {
        "id": "py-A1bi1XKL4"
      },
      "source": [
        "4.[1 point] Implement one of the elimination algorithms that were described in the Seminar_4 (Elimination by P-value, Forward elimination, Backward elimination), make conclusions"
      ]
    },
    {
      "cell_type": "code",
      "metadata": {
        "colab": {
          "base_uri": "https://localhost:8080/"
        },
        "id": "WGaVmLFaWtcs",
        "outputId": "45efeef3-baf7-4f2a-cade-2e430dcfcf23"
      },
      "source": [
        "def forward_selection(data, target, significance_level=0.05):\r\n",
        "    data = pd.DataFrame(data=data, columns=columns)\r\n",
        "    initial_features = data.columns.tolist()\r\n",
        "    best_features = []\r\n",
        "    while (len(initial_features) > 0):\r\n",
        "        remaining_features = list(set(initial_features)-set(best_features))\r\n",
        "        new_pval = pd.Series(index=remaining_features)\r\n",
        "        for new_column in remaining_features:\r\n",
        "            model = sm.OLS(target, sm.add_constant(data[best_features+[new_column]])).fit()\r\n",
        "            new_pval[new_column] = model.pvalues[new_column]\r\n",
        "        print(model.summary())\r\n",
        "        min_p_value = new_pval.min()\r\n",
        "        if(min_p_value<significance_level):\r\n",
        "            best_features.append(new_pval.idxmin())\r\n",
        "        else:\r\n",
        "            break\r\n",
        "    return best_features\r\n",
        "\r\n",
        "print(forward_selection(X_train_standart, y_train))"
      ],
      "execution_count": 8,
      "outputs": [
        {
          "output_type": "stream",
          "text": [
            "                            OLS Regression Results                            \n",
            "==============================================================================\n",
            "Dep. Variable:                      y   R-squared:                       0.181\n",
            "Model:                            OLS   Adj. R-squared:                  0.179\n",
            "Method:                 Least Squares   F-statistic:                     88.69\n",
            "Date:                Sat, 13 Mar 2021   Prob (F-statistic):           3.67e-19\n",
            "Time:                        17:14:15   Log-Likelihood:                -1430.7\n",
            "No. Observations:                 404   AIC:                             2865.\n",
            "Df Residuals:                     402   BIC:                             2873.\n",
            "Df Model:                           1                                         \n",
            "Covariance Type:            nonrobust                                         \n",
            "==============================================================================\n",
            "                 coef    std err          t      P>|t|      [0.025      0.975]\n",
            "------------------------------------------------------------------------------\n",
            "const         22.6119      0.417     54.283      0.000      21.793      23.431\n",
            "RAD           -3.9228      0.417     -9.417      0.000      -4.742      -3.104\n",
            "==============================================================================\n",
            "Omnibus:                      110.291   Durbin-Watson:                   1.880\n",
            "Prob(Omnibus):                  0.000   Jarque-Bera (JB):              243.356\n",
            "Skew:                           1.406   Prob(JB):                     1.43e-53\n",
            "Kurtosis:                       5.559   Cond. No.                         1.00\n",
            "==============================================================================\n",
            "\n",
            "Warnings:\n",
            "[1] Standard Errors assume that the covariance matrix of the errors is correctly specified.\n"
          ],
          "name": "stdout"
        },
        {
          "output_type": "stream",
          "text": [
            "/usr/local/lib/python3.7/dist-packages/ipykernel_launcher.py:7: DeprecationWarning: The default dtype for empty Series will be 'object' instead of 'float64' in a future version. Specify a dtype explicitly to silence this warning.\n",
            "  import sys\n"
          ],
          "name": "stderr"
        },
        {
          "output_type": "stream",
          "text": [
            "                            OLS Regression Results                            \n",
            "==============================================================================\n",
            "Dep. Variable:                      y   R-squared:                       0.576\n",
            "Model:                            OLS   Adj. R-squared:                  0.574\n",
            "Method:                 Least Squares   F-statistic:                     272.5\n",
            "Date:                Sat, 13 Mar 2021   Prob (F-statistic):           1.87e-75\n",
            "Time:                        17:14:15   Log-Likelihood:                -1297.7\n",
            "No. Observations:                 404   AIC:                             2601.\n",
            "Df Residuals:                     401   BIC:                             2613.\n",
            "Df Model:                           2                                         \n",
            "Covariance Type:            nonrobust                                         \n",
            "==============================================================================\n",
            "                 coef    std err          t      P>|t|      [0.025      0.975]\n",
            "------------------------------------------------------------------------------\n",
            "const         22.6119      0.300     75.368      0.000      22.022      23.202\n",
            "LSTAT         -6.6142      0.342    -19.338      0.000      -7.287      -5.942\n",
            "RAD           -0.7466      0.342     -2.183      0.030      -1.419      -0.074\n",
            "==============================================================================\n",
            "Omnibus:                      106.825   Durbin-Watson:                   1.948\n",
            "Prob(Omnibus):                  0.000   Jarque-Bera (JB):              213.301\n",
            "Skew:                           1.426   Prob(JB):                     4.81e-47\n",
            "Kurtosis:                       5.130   Cond. No.                         1.69\n",
            "==============================================================================\n",
            "\n",
            "Warnings:\n",
            "[1] Standard Errors assume that the covariance matrix of the errors is correctly specified.\n",
            "                            OLS Regression Results                            \n",
            "==============================================================================\n",
            "Dep. Variable:                      y   R-squared:                       0.675\n",
            "Model:                            OLS   Adj. R-squared:                  0.673\n",
            "Method:                 Least Squares   F-statistic:                     277.3\n",
            "Date:                Sat, 13 Mar 2021   Prob (F-statistic):           2.58e-97\n",
            "Time:                        17:14:15   Log-Likelihood:                -1243.8\n",
            "No. Observations:                 404   AIC:                             2496.\n",
            "Df Residuals:                     400   BIC:                             2512.\n",
            "Df Model:                           3                                         \n",
            "Covariance Type:            nonrobust                                         \n",
            "==============================================================================\n",
            "                 coef    std err          t      P>|t|      [0.025      0.975]\n",
            "------------------------------------------------------------------------------\n",
            "const         22.6119      0.263     86.012      0.000      22.095      23.129\n",
            "LSTAT         -4.0582      0.378    -10.722      0.000      -4.802      -3.314\n",
            "RM             3.7451      0.339     11.057      0.000       3.079       4.411\n",
            "RAD           -1.2331      0.303     -4.071      0.000      -1.829      -0.638\n",
            "==============================================================================\n",
            "Omnibus:                      135.774   Durbin-Watson:                   1.965\n",
            "Prob(Omnibus):                  0.000   Jarque-Bera (JB):              496.698\n",
            "Skew:                           1.481   Prob(JB):                    1.39e-108\n",
            "Kurtosis:                       7.554   Cond. No.                         2.49\n",
            "==============================================================================\n",
            "\n",
            "Warnings:\n",
            "[1] Standard Errors assume that the covariance matrix of the errors is correctly specified.\n",
            "                            OLS Regression Results                            \n",
            "==============================================================================\n",
            "Dep. Variable:                      y   R-squared:                       0.726\n",
            "Model:                            OLS   Adj. R-squared:                  0.723\n",
            "Method:                 Least Squares   F-statistic:                     263.8\n",
            "Date:                Sat, 13 Mar 2021   Prob (F-statistic):          1.29e-110\n",
            "Time:                        17:14:15   Log-Likelihood:                -1209.8\n",
            "No. Observations:                 404   AIC:                             2430.\n",
            "Df Residuals:                     399   BIC:                             2450.\n",
            "Df Model:                           4                                         \n",
            "Covariance Type:            nonrobust                                         \n",
            "==============================================================================\n",
            "                 coef    std err          t      P>|t|      [0.025      0.975]\n",
            "------------------------------------------------------------------------------\n",
            "const         22.6119      0.242     93.450      0.000      22.136      23.088\n",
            "LSTAT         -3.8243      0.352    -10.855      0.000      -4.517      -3.132\n",
            "RM             3.0660      0.318      9.641      0.000       2.441       3.691\n",
            "PTRATIO       -2.2649      0.284     -7.983      0.000      -2.823      -1.707\n",
            "TAX           -0.7194      0.307     -2.341      0.020      -1.323      -0.115\n",
            "==============================================================================\n",
            "Omnibus:                      170.845   Durbin-Watson:                   1.973\n",
            "Prob(Omnibus):                  0.000   Jarque-Bera (JB):              942.176\n",
            "Skew:                           1.737   Prob(JB):                    2.57e-205\n",
            "Kurtosis:                       9.626   Cond. No.                         2.84\n",
            "==============================================================================\n",
            "\n",
            "Warnings:\n",
            "[1] Standard Errors assume that the covariance matrix of the errors is correctly specified.\n",
            "                            OLS Regression Results                            \n",
            "==============================================================================\n",
            "Dep. Variable:                      y   R-squared:                       0.732\n",
            "Model:                            OLS   Adj. R-squared:                  0.728\n",
            "Method:                 Least Squares   F-statistic:                     217.0\n",
            "Date:                Sat, 13 Mar 2021   Prob (F-statistic):          2.76e-111\n",
            "Time:                        17:14:15   Log-Likelihood:                -1205.3\n",
            "No. Observations:                 404   AIC:                             2423.\n",
            "Df Residuals:                     398   BIC:                             2447.\n",
            "Df Model:                           5                                         \n",
            "Covariance Type:            nonrobust                                         \n",
            "==============================================================================\n",
            "                 coef    std err          t      P>|t|      [0.025      0.975]\n",
            "------------------------------------------------------------------------------\n",
            "const         22.6119      0.240     94.372      0.000      22.141      23.083\n",
            "LSTAT         -3.5549      0.360     -9.865      0.000      -4.263      -2.846\n",
            "RM             3.1785      0.317     10.021      0.000       2.555       3.802\n",
            "PTRATIO       -2.3069      0.281     -8.201      0.000      -2.860      -1.754\n",
            "B              0.8224      0.275      2.986      0.003       0.281       1.364\n",
            "TAX           -0.4548      0.317     -1.435      0.152      -1.078       0.168\n",
            "==============================================================================\n",
            "Omnibus:                      179.891   Durbin-Watson:                   1.979\n",
            "Prob(Omnibus):                  0.000   Jarque-Bera (JB):             1079.333\n",
            "Skew:                           1.814   Prob(JB):                    4.22e-235\n",
            "Kurtosis:                      10.138   Cond. No.                         3.00\n",
            "==============================================================================\n",
            "\n",
            "Warnings:\n",
            "[1] Standard Errors assume that the covariance matrix of the errors is correctly specified.\n",
            "                            OLS Regression Results                            \n",
            "==============================================================================\n",
            "Dep. Variable:                      y   R-squared:                       0.743\n",
            "Model:                            OLS   Adj. R-squared:                  0.739\n",
            "Method:                 Least Squares   F-statistic:                     191.2\n",
            "Date:                Sat, 13 Mar 2021   Prob (F-statistic):          8.71e-114\n",
            "Time:                        17:14:15   Log-Likelihood:                -1196.6\n",
            "No. Observations:                 404   AIC:                             2407.\n",
            "Df Residuals:                     397   BIC:                             2435.\n",
            "Df Model:                           6                                         \n",
            "Covariance Type:            nonrobust                                         \n",
            "==============================================================================\n",
            "                 coef    std err          t      P>|t|      [0.025      0.975]\n",
            "------------------------------------------------------------------------------\n",
            "const         22.6119      0.235     96.301      0.000      22.150      23.073\n",
            "LSTAT         -4.0643      0.374    -10.879      0.000      -4.799      -3.330\n",
            "RM             3.0132      0.313      9.617      0.000       2.397       3.629\n",
            "PTRATIO       -2.2098      0.277     -7.987      0.000      -2.754      -1.666\n",
            "B              0.7728      0.270      2.860      0.004       0.242       1.304\n",
            "DIS           -1.2353      0.296     -4.175      0.000      -1.817      -0.654\n",
            "TAX           -0.9542      0.333     -2.867      0.004      -1.608      -0.300\n",
            "==============================================================================\n",
            "Omnibus:                      160.609   Durbin-Watson:                   1.971\n",
            "Prob(Omnibus):                  0.000   Jarque-Bera (JB):              833.774\n",
            "Skew:                           1.637   Prob(JB):                    8.88e-182\n",
            "Kurtosis:                       9.230   Cond. No.                         3.29\n",
            "==============================================================================\n",
            "\n",
            "Warnings:\n",
            "[1] Standard Errors assume that the covariance matrix of the errors is correctly specified.\n",
            "                            OLS Regression Results                            \n",
            "==============================================================================\n",
            "Dep. Variable:                      y   R-squared:                       0.753\n",
            "Model:                            OLS   Adj. R-squared:                  0.748\n",
            "Method:                 Least Squares   F-statistic:                     172.0\n",
            "Date:                Sat, 13 Mar 2021   Prob (F-statistic):          7.01e-116\n",
            "Time:                        17:14:15   Log-Likelihood:                -1188.9\n",
            "No. Observations:                 404   AIC:                             2394.\n",
            "Df Residuals:                     396   BIC:                             2426.\n",
            "Df Model:                           7                                         \n",
            "Covariance Type:            nonrobust                                         \n",
            "==============================================================================\n",
            "                 coef    std err          t      P>|t|      [0.025      0.975]\n",
            "------------------------------------------------------------------------------\n",
            "const         22.6119      0.231     98.024      0.000      22.158      23.065\n",
            "LSTAT         -3.8105      0.373    -10.224      0.000      -4.543      -3.078\n",
            "RM             2.9138      0.309      9.434      0.000       2.307       3.521\n",
            "PTRATIO       -2.4920      0.281     -8.862      0.000      -3.045      -1.939\n",
            "B              0.6938      0.266      2.606      0.009       0.170       1.217\n",
            "DIS           -2.1445      0.372     -5.765      0.000      -2.876      -1.413\n",
            "NOX           -1.7865      0.456     -3.916      0.000      -2.683      -0.890\n",
            "TAX           -0.2767      0.370     -0.748      0.455      -1.004       0.451\n",
            "==============================================================================\n",
            "Omnibus:                      153.030   Durbin-Watson:                   1.992\n",
            "Prob(Omnibus):                  0.000   Jarque-Bera (JB):              760.631\n",
            "Skew:                           1.563   Prob(JB):                    6.78e-166\n",
            "Kurtosis:                       8.951   Cond. No.                         4.63\n",
            "==============================================================================\n",
            "\n",
            "Warnings:\n",
            "[1] Standard Errors assume that the covariance matrix of the errors is correctly specified.\n",
            "                            OLS Regression Results                            \n",
            "==============================================================================\n",
            "Dep. Variable:                      y   R-squared:                       0.758\n",
            "Model:                            OLS   Adj. R-squared:                  0.753\n",
            "Method:                 Least Squares   F-statistic:                     154.5\n",
            "Date:                Sat, 13 Mar 2021   Prob (F-statistic):          1.35e-116\n",
            "Time:                        17:14:15   Log-Likelihood:                -1184.6\n",
            "No. Observations:                 404   AIC:                             2387.\n",
            "Df Residuals:                     395   BIC:                             2423.\n",
            "Df Model:                           8                                         \n",
            "Covariance Type:            nonrobust                                         \n",
            "==============================================================================\n",
            "                 coef    std err          t      P>|t|      [0.025      0.975]\n",
            "------------------------------------------------------------------------------\n",
            "const         22.6119      0.228     98.967      0.000      22.163      23.061\n",
            "LSTAT         -3.8019      0.369    -10.298      0.000      -4.528      -3.076\n",
            "RM             2.8529      0.307      9.304      0.000       2.250       3.456\n",
            "PTRATIO       -2.4461      0.279     -8.769      0.000      -2.995      -1.898\n",
            "B              0.6380      0.264      2.414      0.016       0.118       1.158\n",
            "DIS           -2.0667      0.369     -5.595      0.000      -2.793      -1.340\n",
            "NOX           -1.8275      0.452     -4.043      0.000      -2.716      -0.939\n",
            "CHAS           0.6848      0.233      2.942      0.003       0.227       1.142\n",
            "TAX           -0.2406      0.367     -0.656      0.512      -0.961       0.480\n",
            "==============================================================================\n",
            "Omnibus:                      144.428   Durbin-Watson:                   2.001\n",
            "Prob(Omnibus):                  0.000   Jarque-Bera (JB):              687.948\n",
            "Skew:                           1.478   Prob(JB):                    4.11e-150\n",
            "Kurtosis:                       8.668   Cond. No.                         4.63\n",
            "==============================================================================\n",
            "\n",
            "Warnings:\n",
            "[1] Standard Errors assume that the covariance matrix of the errors is correctly specified.\n",
            "                            OLS Regression Results                            \n",
            "==============================================================================\n",
            "Dep. Variable:                      y   R-squared:                       0.761\n",
            "Model:                            OLS   Adj. R-squared:                  0.756\n",
            "Method:                 Least Squares   F-statistic:                     139.8\n",
            "Date:                Sat, 13 Mar 2021   Prob (F-statistic):          8.80e-117\n",
            "Time:                        17:14:15   Log-Likelihood:                -1181.5\n",
            "No. Observations:                 404   AIC:                             2383.\n",
            "Df Residuals:                     394   BIC:                             2423.\n",
            "Df Model:                           9                                         \n",
            "Covariance Type:            nonrobust                                         \n",
            "==============================================================================\n",
            "                 coef    std err          t      P>|t|      [0.025      0.975]\n",
            "------------------------------------------------------------------------------\n",
            "const         22.6119      0.227     99.596      0.000      22.166      23.058\n",
            "LSTAT         -3.8978      0.367    -10.613      0.000      -4.620      -3.176\n",
            "RM             2.6555      0.313      8.478      0.000       2.040       3.271\n",
            "PTRATIO       -2.4239      0.297     -8.148      0.000      -3.009      -1.839\n",
            "B              0.7409      0.265      2.797      0.005       0.220       1.262\n",
            "DIS           -2.5656      0.418     -6.136      0.000      -3.388      -1.744\n",
            "NOX           -2.0935      0.442     -4.737      0.000      -2.962      -1.225\n",
            "CHAS           0.7004      0.231      3.027      0.003       0.246       1.155\n",
            "ZN             0.7699      0.334      2.303      0.022       0.113       1.427\n",
            "RAD            0.2369      0.348      0.680      0.497      -0.448       0.922\n",
            "==============================================================================\n",
            "Omnibus:                      124.500   Durbin-Watson:                   2.016\n",
            "Prob(Omnibus):                  0.000   Jarque-Bera (JB):              514.569\n",
            "Skew:                           1.300   Prob(JB):                    1.83e-112\n",
            "Kurtosis:                       7.880   Cond. No.                         4.83\n",
            "==============================================================================\n",
            "\n",
            "Warnings:\n",
            "[1] Standard Errors assume that the covariance matrix of the errors is correctly specified.\n",
            "                            OLS Regression Results                            \n",
            "==============================================================================\n",
            "Dep. Variable:                      y   R-squared:                       0.765\n",
            "Model:                            OLS   Adj. R-squared:                  0.759\n",
            "Method:                 Least Squares   F-statistic:                     128.1\n",
            "Date:                Sat, 13 Mar 2021   Prob (F-statistic):          5.08e-117\n",
            "Time:                        17:14:15   Log-Likelihood:                -1178.3\n",
            "No. Observations:                 404   AIC:                             2379.\n",
            "Df Residuals:                     393   BIC:                             2423.\n",
            "Df Model:                          10                                         \n",
            "Covariance Type:            nonrobust                                         \n",
            "==============================================================================\n",
            "                 coef    std err          t      P>|t|      [0.025      0.975]\n",
            "------------------------------------------------------------------------------\n",
            "const         22.6119      0.226    100.249      0.000      22.168      23.055\n",
            "LSTAT         -3.6726      0.373     -9.842      0.000      -4.406      -2.939\n",
            "RM             2.7630      0.309      8.945      0.000       2.156       3.370\n",
            "PTRATIO       -2.1295      0.297     -7.180      0.000      -2.713      -1.546\n",
            "B              0.5977      0.261      2.287      0.023       0.084       1.111\n",
            "DIS           -2.6820      0.418     -6.416      0.000      -3.504      -1.860\n",
            "NOX           -1.7093      0.450     -3.797      0.000      -2.594      -0.824\n",
            "CHAS           0.6790      0.230      2.952      0.003       0.227       1.131\n",
            "ZN             0.9724      0.339      2.866      0.004       0.305       1.639\n",
            "CRIM          -0.6333      0.287     -2.207      0.028      -1.197      -0.069\n",
            "TAX           -0.2232      0.394     -0.566      0.572      -0.999       0.552\n",
            "==============================================================================\n",
            "Omnibus:                      149.280   Durbin-Watson:                   2.010\n",
            "Prob(Omnibus):                  0.000   Jarque-Bera (JB):              713.191\n",
            "Skew:                           1.534   Prob(JB):                    1.36e-155\n",
            "Kurtosis:                       8.740   Cond. No.                         5.17\n",
            "==============================================================================\n",
            "\n",
            "Warnings:\n",
            "[1] Standard Errors assume that the covariance matrix of the errors is correctly specified.\n",
            "['LSTAT', 'RM', 'PTRATIO', 'B', 'DIS', 'NOX', 'CHAS', 'ZN', 'CRIM']\n"
          ],
          "name": "stdout"
        }
      ]
    },
    {
      "cell_type": "markdown",
      "metadata": {
        "id": "8XnS322_o6eP"
      },
      "source": [
        "Вывод: С помощью Forward мы нашли значимые переменные и избавились от максимальных p-value. Также, мы можем заметить, что наших данных стало меньше. Исчезли 'INDUS', 'AGE, 'RAD', 'TAX'"
      ]
    },
    {
      "cell_type": "markdown",
      "metadata": {
        "id": "pGSoXIxlZGdi"
      },
      "source": [
        "5. [1 point] Find the best (in terms of RMSE) $\\alpha$ for Ridge regression using cross-validation with 5 folds. You must select values from range $[10^{-4}, 10^{3}]$.¶"
      ]
    },
    {
      "cell_type": "code",
      "metadata": {
        "colab": {
          "base_uri": "https://localhost:8080/"
        },
        "id": "Erre5J9LZL-n",
        "outputId": "947b693b-6f81-4e03-a35c-23ff2931c2e1"
      },
      "source": [
        "alphas = 10**np.linspace(-4,3, 100)\r\n",
        "\r\n",
        "ridge = RidgeCV(alphas=alphas, cv=5, normalize=False)\r\n",
        "ridge.fit(X_train_standart, y_train)\r\n",
        "ridge.alpha_"
      ],
      "execution_count": 9,
      "outputs": [
        {
          "output_type": "execute_result",
          "data": {
            "text/plain": [
              "8.902150854450374"
            ]
          },
          "metadata": {
            "tags": []
          },
          "execution_count": 9
        }
      ]
    },
    {
      "cell_type": "markdown",
      "metadata": {
        "id": "UcgQdFMcxPfA"
      },
      "source": [
        "\r\n",
        "# **Gradient descent**\r\n",
        "6. [3.5 points] Implement a linear regression model for the MSE loss function, trained by gradient descent.\r\n",
        "All calculations must be vectorized, and python loops can only be used for gradient descent iterations. As a stop criterion, you must use (simultaneously):\r\n",
        "\r\n",
        "checking for the Euclidean norm of the weight difference on two adjacent iterations (for example, less than some small number of the order of $10^{-6}$, set by the tolerance parameter);\r\n",
        "reaching the maximum number of iterations (for example, 10000, set by the max_iter parameter).\r\n",
        "You need to implement:\r\n",
        "\r\n",
        "Full gradient descent:\r\n",
        "$$\r\n",
        "w_{k + 1} = w_{k} - \\eta_{k} \\nabla_{w} Q(w_{k}).\r\n",
        "$$\r\n",
        "Stochastic Gradient Descent:\r\n",
        "$$\r\n",
        "w_{k + 1} = w_{k} - \\eta_{k} \\nabla_{w} q_{i_{k}}(w_{k}).\r\n",
        "$$\r\n",
        "$\\nabla_{w} q_{i_{k}}(w_{k}) \\, $ is the estimate of the gradient over the butch of objects selected randomly.\r\n",
        "\r\n",
        "Momentum method:\r\n",
        "$$\r\n",
        "h_0 = 0, \\\\\r\n",
        "h_{k + 1} = \\alpha h_{k} + \\eta_k \\nabla_{w} Q(w_{k}), \\\\\r\n",
        "w_{k + 1} = w_{k} - h_{k + 1}.\r\n",
        "$$\r\n",
        "To make sure that the optimization process really converges, we will use the loss_history class attribute. After calling the fit method, it should contain the values of the loss function for all iterations, starting from the first one (before the first step on the anti-gradient).\r\n",
        "\r\n",
        "You need to initialize the weights with a zero or random (from a normal distribution) vector. The following is a template class that needs to contain the code implementing all variations of the models."
      ]
    },
    {
      "cell_type": "code",
      "metadata": {
        "id": "xt_gCqyWUjbr"
      },
      "source": [
        "#scaler = MinMaxScaler()\r\n",
        "#X_train_MinMax = scaler.fit_transform(X_train)\r\n",
        "#X_test_MinMax = scaler.fit_transform(X_test)"
      ],
      "execution_count": 10,
      "outputs": []
    },
    {
      "cell_type": "code",
      "metadata": {
        "id": "YFw4FXFCxUnc"
      },
      "source": [
        "from sklearn.base import BaseEstimator\r\n",
        "\r\n",
        "\r\n",
        "x_full = []\r\n",
        "y_full = []\r\n",
        "x_stochastic = []\r\n",
        "y_stochastic = []\r\n",
        "x_momentum = []\r\n",
        "y_momentum = []\r\n",
        "\r\n",
        "class LinReg(BaseEstimator):\r\n",
        "    def __init__(self, delta=1.0, gd_type='full', \r\n",
        "                 tolerance=1e-4, max_iter=1000, w0=None, eta=1e-2, alpha=1e-3, reg=None):\r\n",
        "        \"\"\"\r\n",
        "        gd_type: 'GradientDescent', 'StochasticDescent', 'Momentum'\r\n",
        "        tolerance: for stopping gradient descent\r\n",
        "        max_iter: maximum number of steps in gradient descent\r\n",
        "        w0: np.array of shape (d) - init weights\r\n",
        "        eta: learning rate\r\n",
        "        alpha: momentum coefficient\r\n",
        "        \"\"\"\r\n",
        "        self.intercept = 0\r\n",
        "        self.delta = delta\r\n",
        "        self.gd_type = gd_type\r\n",
        "        self.tolerance = tolerance\r\n",
        "        self.max_iter = max_iter\r\n",
        "        self.w0 = w0\r\n",
        "        self.alpha = alpha\r\n",
        "        self.w = 0\r\n",
        "        self.eta = eta\r\n",
        "        self.reg = reg\r\n",
        "        self.loss_history = None # list of loss function values at each training iteration\r\n",
        "    \r\n",
        "    def fit(self, X, y):\r\n",
        "        \r\n",
        "        \"\"\"\r\n",
        "        X: np.array of shape (l, d)\r\n",
        "        y: np.array of shape (l)\r\n",
        "        ---\r\n",
        "        output: self\r\n",
        "        \"\"\"\r\n",
        "        X=np.array(X)\r\n",
        "        y=np.array(y)\r\n",
        "\r\n",
        "        self.loss_history = []\r\n",
        "        \r\n",
        "        self.w = np.zeros(X.shape[1])\r\n",
        "        self.m = np.zeros(X.shape[1])\r\n",
        "        self.v = np.zeros(X.shape[1])\r\n",
        "        self.loss_history = []\r\n",
        "\r\n",
        "        prev = self.w.copy()\r\n",
        "        prev_m = self.m.copy()\r\n",
        "        prev_v = self.v.copy()\r\n",
        "        \r\n",
        "        #tmp_arr = np.random.uniform(-1/(2*X.shape[0]), 1/(2*X.shape[0]), X.shape[1])  # Uniform init with values ~ 0\r\n",
        "        #self.w = self.w0.copy() if self.w0 is not None else tmp_arr\r\n",
        "        h = 0\r\n",
        "        \r\n",
        "        for i in range(self.max_iter):\r\n",
        "            self.loss_history.append(self.calc_loss(X,y))\r\n",
        "            new_w = None\r\n",
        "            \r\n",
        "            self.intercept = np.mean(y) - np.dot(np.mean(X, axis=0), self.w)\r\n",
        "\r\n",
        "            if self.gd_type == 'full':\r\n",
        "                self.w = self.w - self.eta * self.calc_gradient(X, y)\r\n",
        "                self.loss_history.append(self.calc_loss(X, y))\r\n",
        "                x_full.append(i)\r\n",
        "                y_full.append(self.calc_loss(X, y))\r\n",
        "                \r\n",
        "            if self.gd_type == 'stochastic':\r\n",
        "                #rand_index = np.random.randint(0, y.shape[0])\r\n",
        "                #new_w = self.w - self.eta * self.calc_gradient(X[rand_index], y[rand_index])\r\n",
        "\r\n",
        "                sample = np.random.randint(X.shape[0], size=1)\r\n",
        "                self.w -= self.eta * self.calc_gradient(X[sample], y[sample])\r\n",
        "                \r\n",
        "                #self.w = self.w - self.eta * self.calc_gradient(X[np.random.randint()], y)\r\n",
        "                self.loss_history.append(self.calc_loss(X, y))\r\n",
        "                \r\n",
        "                x_stochastic.append(i)\r\n",
        "                y_stochastic.append(self.calc_loss(X, y))\r\n",
        "            \r\n",
        "            if (self.gd_type == 'momentum'):\r\n",
        "                h = self.alpha * h + self.eta * self.calc_gradient(X, y)\r\n",
        "                self.w = self.w - h\r\n",
        "                self.loss_history.append(self.calc_loss(X, y))\r\n",
        "                \r\n",
        "                x_momentum.append(i)\r\n",
        "                y_momentum.append(self.calc_loss(X, y))\r\n",
        "            \r\n",
        "            #if np.linalg.norm(new_w - self.w, 2) < self.tolerance:\r\n",
        "                #break\r\n",
        "\r\n",
        "            if (np.sqrt(np.sum(np.square(prev - self.w)))  < self.tolerance):\r\n",
        "                 break\r\n",
        "            #print(i, self.max_iter, np.sqrt(np.sum(np.square(prev - self.w))), self.tolerance)\r\n",
        "            prev = self.w.copy()\r\n",
        "                           \r\n",
        "\r\n",
        "        return self\r\n",
        "    \r\n",
        "    def predict(self, X):\r\n",
        "        if self.w is None:\r\n",
        "            raise Exception('Not trained yet')\r\n",
        "        return X.dot(self.w) + self.intercept\r\n",
        "        #if (self.reg is not None): \r\n",
        "        #    w_norm = sum(map(lambda i: i * i, w))\r\n",
        "        #   return X @ self.w.T + self.reg * w_norm\r\n",
        "\r\n",
        "        return X @ self.w.T\r\n",
        "\r\n",
        "    def calc_gradient(self, X, y):\r\n",
        "        \"\"\"\r\n",
        "        X: np.array of shape (l, d) (l can be equal to 1 if stochastic)\r\n",
        "        y: np.array of shape (l)\r\n",
        "        ---\r\n",
        "        output: np.array of shape (d)\r\n",
        "        \"\"\"\r\n",
        "        #if (self.reg is not None):   \r\n",
        "        #  return 1/X.shape[0] * X.T.dot(X @ self.w.T - y.T) + self.reg/X.shape[0] * self.w.T\r\n",
        "        \r\n",
        "       # return 1/X.shape[0] * X.T.dot(X @ self.w.T - y.T)\r\n",
        "        return (X.T.dot(X.dot(self.w)-y).dot(2))/(y.shape[0])\r\n",
        "\r\n",
        "    def calc_loss(self, X, y):\r\n",
        "        \"\"\"\r\n",
        "        X: np.array of shape (l, d)\r\n",
        "        y: np.array of shape (l)\r\n",
        "        ---\r\n",
        "        output: float \r\n",
        "        \"\"\" \r\n",
        "        #tmp = X @ self.w.T - y.T\r\n",
        "        #if (self.reg is not None): \r\n",
        "          #  w_norm = sum(map(lambda i: i * i, w)) \r\n",
        "         #   return 1/(2 * X.shape[0]) * tmp * tmp.T + self.reg/(2 * X.shape[0]) * w_norm\r\n",
        "        \r\n",
        "        #return 1/(2 * X.shape[0]) * tmp * tmp.T\r\n",
        "        return mean_squared_error(self.predict(X), y)"
      ],
      "execution_count": 11,
      "outputs": []
    },
    {
      "cell_type": "code",
      "metadata": {
        "id": "1_eMhyy87dm5"
      },
      "source": [
        "from sklearn.preprocessing import OneHotEncoder, StandardScaler\r\n",
        "from sklearn.compose import ColumnTransformer\r\n",
        "from sklearn.pipeline import Pipeline\r\n",
        "from sklearn.metrics import make_scorer"
      ],
      "execution_count": 12,
      "outputs": []
    },
    {
      "cell_type": "code",
      "metadata": {
        "id": "ciDM85rQ7gvY"
      },
      "source": [
        "def mse(bar_y, y):\r\n",
        "    return 1 / y.shape[0] * (bar_y - y) @ (bar_y - y).T\r\n",
        "\r\n",
        "def r2(bar_y, y):\r\n",
        "    return 1 - mse(bar_y, y) / mse(y.mean(), y)\r\n",
        "\r\n",
        "mse_scorer = make_scorer(\r\n",
        "    mse,\r\n",
        "    greater_is_better=False\r\n",
        ")\r\n",
        "\r\n",
        "r2_scorer = make_scorer(\r\n",
        "    r2,\r\n",
        "    greater_is_better=False\r\n",
        ")"
      ],
      "execution_count": 13,
      "outputs": []
    },
    {
      "cell_type": "code",
      "metadata": {
        "colab": {
          "base_uri": "https://localhost:8080/"
        },
        "id": "WUCsg9h3akRG",
        "outputId": "e6525ca9-5abf-4596-d64e-5f5bafdbce0e"
      },
      "source": [
        "abc = LinReg()\r\n",
        "model = abc.fit(X_train_standart, y_train)\r\n",
        "y_pred = model.predict(X_test_standart)\r\n",
        "print('Test MSE = %.4f' % mse(y_pred, y_test))\r\n",
        "y_pred = model.predict(X_test_standart)\r\n",
        "print('Test R2 = %.4f' % r2(y_pred, y_test))\r\n",
        "print('-----')"
      ],
      "execution_count": 14,
      "outputs": [
        {
          "output_type": "stream",
          "text": [
            "Test MSE = 35.4779\n",
            "Test R2 = 0.5643\n",
            "-----\n"
          ],
          "name": "stdout"
        }
      ]
    },
    {
      "cell_type": "markdown",
      "metadata": {
        "id": "pD1X2xYN1Cti"
      },
      "source": [
        "\r\n",
        "7. [1 points] Train and validate \"hand-written\" models on the same data, and compare the quality with the Sklearn or StatsModels methods. Investigate the effect of the max_iter and alpha parameters on the optimization process. Is it consistent with your expectations?"
      ]
    },
    {
      "cell_type": "code",
      "metadata": {
        "id": "QeszqOpQjbIR",
        "colab": {
          "base_uri": "https://localhost:8080/"
        },
        "outputId": "184e9a6f-fd4c-4081-d08e-423d824d9a5d"
      },
      "source": [
        "import sklearn.metrics as metrics\r\n",
        "print('Full')\r\n",
        "\r\n",
        "for i in  [100, 200, 300, 400, 500, 600, 700, 800, 900, 1000]:\r\n",
        "  model = LinReg(gd_type = 'full', max_iter=i, tolerance = 1e-8)\r\n",
        "  model.fit(X_train_standart, y_train)\r\n",
        "  print('max_iter', i)\r\n",
        "\r\n",
        "  y_pred = model.predict(X_test_standart)\r\n",
        "  print('MSE=%.4f'% metrics.mean_squared_error(y_test,y_pred))\r\n",
        "  y_pred = model.predict(X_test_standart)\r\n",
        "  print('R2=%.4f'%r2_score(y_test,y_pred))\r\n",
        "\r\n",
        "print()\r\n",
        "\r\n",
        "print('Stochastic')\r\n",
        "for i in  [100, 200, 300, 400, 500, 600, 700, 800, 900, 1000]:\r\n",
        "  model = LinReg(gd_type = 'stochastic', max_iter=i, tolerance = 1e-8)\r\n",
        "  model.fit(X_train_standart, y_train)\r\n",
        "  print('max_iter', i)\r\n",
        "\r\n",
        "  y_pred = model.predict(X_test_standart)\r\n",
        "  print('MSE=%.4f'% metrics.mean_squared_error(y_test,y_pred))\r\n",
        "  y_pred = model.predict(X_test_standart)\r\n",
        "  print('R2=%.4f'%r2_score(y_test,y_pred))\r\n",
        "\r\n",
        "print()\r\n",
        "\r\n",
        "print('Momentum')\r\n",
        "for i in  [100, 200, 300, 400, 500, 600, 700, 800, 900, 1000]:\r\n",
        "  model = LinReg(gd_type = 'momentum', max_iter=i, tolerance = 1e-8)\r\n",
        "  model.fit(X_train_standart, y_train)\r\n",
        "  print('max_iter', i)\r\n",
        "\r\n",
        "  y_pred = model.predict(X_test_standart)\r\n",
        "  print('MSE=%.4f'% metrics.mean_squared_error(y_test,y_pred))\r\n",
        "  y_pred = model.predict(X_test_standart)\r\n",
        "  print('R2=%.4f'%r2_score(y_test,y_pred))\r\n",
        "\r\n",
        "print()\r\n",
        "\r\n",
        "\r\n",
        "for a in [0.1, 0.2, 0.3, 0.4, 0.5, 0.6, 0.7, 0.8, 0.9, 1.0]:\r\n",
        "  model = LinReg(gd_type = 'momentum', alpha=a, tolerance = 1e-8)\r\n",
        "  model.fit(X_train_standart, y_train)\r\n",
        "  print('alpha', a)\r\n",
        "\r\n",
        "  y_pred = model.predict(X_test_standart)\r\n",
        "  print('MSE=%.4f'% metrics.mean_squared_error(y_test,y_pred))\r\n",
        "  y_pred = model.predict(X_test_standart)\r\n",
        "  print('R2=%.4f'%r2_score(y_test,y_pred))"
      ],
      "execution_count": 15,
      "outputs": [
        {
          "output_type": "stream",
          "text": [
            "Full\n",
            "max_iter 100\n",
            "MSE=40.1557\n",
            "R2=0.5069\n",
            "max_iter 200\n",
            "MSE=37.8097\n",
            "R2=0.5357\n",
            "max_iter 300\n",
            "MSE=36.9527\n",
            "R2=0.5462\n",
            "max_iter 400\n",
            "MSE=36.4749\n",
            "R2=0.5521\n",
            "max_iter 500\n",
            "MSE=36.1599\n",
            "R2=0.5559\n",
            "max_iter 600\n",
            "MSE=35.9368\n",
            "R2=0.5587\n",
            "max_iter 700\n",
            "MSE=35.7725\n",
            "R2=0.5607\n",
            "max_iter 800\n",
            "MSE=35.6484\n",
            "R2=0.5622\n",
            "max_iter 900\n",
            "MSE=35.5528\n",
            "R2=0.5634\n",
            "max_iter 1000\n",
            "MSE=35.4779\n",
            "R2=0.5643\n",
            "\n",
            "Stochastic\n",
            "max_iter 100\n",
            "MSE=63.4587\n",
            "R2=0.2207\n",
            "max_iter 200\n",
            "MSE=107.2608\n",
            "R2=-0.3172\n",
            "max_iter 300\n",
            "MSE=314.8716\n",
            "R2=-2.8669\n",
            "max_iter 400\n",
            "MSE=63.2569\n",
            "R2=0.2232\n",
            "max_iter 500\n",
            "MSE=99.6148\n",
            "R2=-0.2233\n",
            "max_iter 600\n",
            "MSE=43.4861\n",
            "R2=0.4660\n",
            "max_iter 700\n",
            "MSE=365.4690\n",
            "R2=-3.4882\n",
            "max_iter 800\n",
            "MSE=112.3948\n",
            "R2=-0.3803\n",
            "max_iter 900\n",
            "MSE=121.1585\n",
            "R2=-0.4879\n",
            "max_iter 1000\n",
            "MSE=43.5344\n",
            "R2=0.4654\n",
            "\n",
            "Momentum\n",
            "max_iter 100\n",
            "MSE=40.1511\n",
            "R2=0.5069\n",
            "max_iter 200\n",
            "MSE=37.8072\n",
            "R2=0.5357\n",
            "max_iter 300\n",
            "MSE=36.9509\n",
            "R2=0.5462\n",
            "max_iter 400\n",
            "MSE=36.4733\n",
            "R2=0.5521\n",
            "max_iter 500\n",
            "MSE=36.1586\n",
            "R2=0.5559\n",
            "max_iter 600\n",
            "MSE=35.9356\n",
            "R2=0.5587\n",
            "max_iter 700\n",
            "MSE=35.7715\n",
            "R2=0.5607\n",
            "max_iter 800\n",
            "MSE=35.6476\n",
            "R2=0.5622\n",
            "max_iter 900\n",
            "MSE=35.5521\n",
            "R2=0.5634\n",
            "max_iter 1000\n",
            "MSE=35.4772\n",
            "R2=0.5643\n",
            "\n",
            "alpha 0.1\n",
            "MSE=35.4124\n",
            "R2=0.5651\n",
            "alpha 0.2\n",
            "MSE=35.3498\n",
            "R2=0.5659\n",
            "alpha 0.3\n",
            "MSE=35.2911\n",
            "R2=0.5666\n",
            "alpha 0.4\n",
            "MSE=35.2377\n",
            "R2=0.5673\n",
            "alpha 0.5\n",
            "MSE=35.1913\n",
            "R2=0.5678\n",
            "alpha 0.6\n",
            "MSE=35.1541\n",
            "R2=0.5683\n",
            "alpha 0.7\n",
            "MSE=35.1288\n",
            "R2=0.5686\n",
            "alpha 0.8\n",
            "MSE=35.1177\n",
            "R2=0.5687\n",
            "alpha 0.9\n",
            "MSE=35.1164\n",
            "R2=0.5687\n",
            "alpha 1.0\n",
            "MSE=58.7029\n",
            "R2=0.2791\n"
          ],
          "name": "stdout"
        }
      ]
    },
    {
      "cell_type": "markdown",
      "metadata": {
        "id": "e4qbjmIdimFY"
      },
      "source": [
        "Вывод: Full к 1000 итерации R2 увеличился, значимость модели повысилась, также MSE стала уменьшаться. \r\n",
        "Stochastic на 800 итерации MSE выдает наилучший вариант\r\n",
        "Momentum к 1000 итерации R2 увеличился, значимость модели повысилась, также MSE стала уменьшаться. При aplha = 1.0 R2 показывает наименьшее значение, а MSE увеличивается "
      ]
    },
    {
      "cell_type": "markdown",
      "metadata": {
        "id": "DvjDu2HPjbcT"
      },
      "source": [
        "8. [1 points] Plot graphs (on the same picture) of the dependence of the loss function value on the iteration number for Full GD, SGD and Momentum. Draw conclusions about the rate of convergence of various modifications of gradient descent."
      ]
    },
    {
      "cell_type": "code",
      "metadata": {
        "id": "CJLYuU55jb6z",
        "colab": {
          "base_uri": "https://localhost:8080/",
          "height": 703
        },
        "outputId": "58809a6e-8b6a-4c5d-a0cd-2310f02f6e7f"
      },
      "source": [
        "x_full = []\r\n",
        "y_full = []\r\n",
        "x_stochastic = []\r\n",
        "y_stochastic = []\r\n",
        "x_momentum = []\r\n",
        "y_momentum = []\r\n",
        "\r\n",
        "linreg_full = LinReg(gd_type='full')\r\n",
        "model = linreg_full.fit(X_train_standart, y_train)\r\n",
        "y_pred = model.predict(X_test_standart)\r\n",
        "\r\n",
        "linreg_stochastic = LinReg(gd_type='stochastic')\r\n",
        "model = linreg_stochastic.fit(X_train_standart, y_train)\r\n",
        "y_pred = model.predict(X_test_standart)\r\n",
        "\r\n",
        "linreg_momentum = LinReg(gd_type='momentum')\r\n",
        "model = linreg_momentum.fit(X_train_standart, y_train)\r\n",
        "y_pred = model.predict(X_test_standart)\r\n",
        "\r\n",
        "plt.figure(figsize=(12, 12))\r\n",
        "plt.plot(x_full, y_full, label='Градиентный спуск')\r\n",
        "plt.plot(x_stochastic, y_stochastic, label='Стохастический градиентный спуск')\r\n",
        "plt.plot(x_momentum, y_momentum, label='Метод momentum')\r\n",
        "plt.legend()\r\n",
        "plt.show()"
      ],
      "execution_count": 16,
      "outputs": [
        {
          "output_type": "display_data",
          "data": {
            "image/png": "[encoded data removed]",
            "text/plain": [
              "<Figure size 864x864 with 1 Axes>"
            ]
          },
          "metadata": {
            "tags": [],
            "needs_background": "light"
          }
        }
      ]
    },
    {
      "cell_type": "markdown",
      "metadata": {
        "id": "GDNm_1Ncnzwy"
      },
      "source": [
        "Вывод: Если посмотреть на наш график, то мы можем заметить, что градиентный спуск и метод momentum одинаковые, по сравнению с Stochastic Gradient Descent"
      ]
    }
  ]
}