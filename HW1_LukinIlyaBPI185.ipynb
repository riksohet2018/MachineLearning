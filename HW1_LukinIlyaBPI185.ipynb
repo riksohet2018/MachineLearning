{
  "nbformat": 4,
  "nbformat_minor": 0,
  "metadata": {
    "colab": {
      "name": "HW1_LukinIlyaBPI185.ipynb",
      "provenance": [],
      "collapsed_sections": []
    },
    "kernelspec": {
      "name": "python3",
      "display_name": "Python 3"
    }
  },
  "cells": [
    {
      "cell_type": "code",
      "metadata": {
        "id": "IsBBOrAgH6Sk"
      },
      "source": [
        "%matplotlib inline\r\n",
        "import numpy as np\r\n",
        "import pandas as pd\r\n",
        "import matplotlib.pyplot as plt\r\n",
        "import seaborn as sns\r\n",
        "import re"
      ],
      "execution_count": 4,
      "outputs": []
    },
    {
      "cell_type": "markdown",
      "metadata": {
        "id": "2_rKj1eHMqXe"
      },
      "source": [
        "# **Python. Task1**"
      ]
    },
    {
      "cell_type": "code",
      "metadata": {
        "colab": {
          "base_uri": "https://localhost:8080/"
        },
        "id": "-SGuB04XID3F",
        "outputId": "f9e082e0-4b55-4cb6-86b1-c6aec8f0cb81"
      },
      "source": [
        "def find_sum(a,d,N):\r\n",
        "  arr_sum = 0\r\n",
        "  i = 0\r\n",
        "  while i < N:\r\n",
        "    arr_sum = arr_sum+a\r\n",
        "    a = a+d\r\n",
        "    i = i+1\r\n",
        "  return arr_sum\r\n",
        "\r\n",
        "a = 2\r\n",
        "d = 3\r\n",
        "N = 15\r\n",
        "print(find_sum(a,d,N))"
      ],
      "execution_count": null,
      "outputs": [
        {
          "output_type": "stream",
          "text": [
            "345\n"
          ],
          "name": "stdout"
        }
      ]
    },
    {
      "cell_type": "markdown",
      "metadata": {
        "id": "fFPl4hC5Mu2E"
      },
      "source": [
        "Python. Task2"
      ]
    },
    {
      "cell_type": "code",
      "metadata": {
        "colab": {
          "base_uri": "https://localhost:8080/"
        },
        "id": "7c2w6Cj6MuBM",
        "outputId": "57fc206c-54f9-48b0-97a5-aae3c26c8dc2"
      },
      "source": [
        "def check_prime(N):\r\n",
        "  check_result=''\r\n",
        "  if N>1:\r\n",
        "      for i in range(2,N):\r\n",
        "        if (N % i)==0:\r\n",
        "          check_result = 'is not a prime'\r\n",
        "          break\r\n",
        "      else:\r\n",
        "        check_result = 'is a prime'\r\n",
        "  return check_result\r\n",
        "\r\n",
        "for N in [3,8,13,111,113,237,307,479,481]:\r\n",
        "  print(N, check_prime(N))\r\n",
        "      \r\n",
        "\r\n"
      ],
      "execution_count": null,
      "outputs": [
        {
          "output_type": "stream",
          "text": [
            "3 is a prime\n",
            "8 is not a prime\n",
            "13 is a prime\n",
            "111 is not a prime\n",
            "113 is a prime\n",
            "237 is not a prime\n",
            "307 is a prime\n",
            "479 is a prime\n",
            "481 is not a prime\n"
          ],
          "name": "stdout"
        }
      ]
    },
    {
      "cell_type": "markdown",
      "metadata": {
        "id": "8h4CuWC9YD5e"
      },
      "source": [
        "Python. Task3"
      ]
    },
    {
      "cell_type": "code",
      "metadata": {
        "colab": {
          "base_uri": "https://localhost:8080/"
        },
        "id": "yCklQcv5YK8J",
        "outputId": "20777688-4b22-4110-f4c2-5063002254d1"
      },
      "source": [
        "def find_primes(N):\r\n",
        "  primes = []\r\n",
        "  i=1\r\n",
        "  k=2\r\n",
        "  while i<=N:\r\n",
        "    if check_prime(k):\r\n",
        "      primes.append(k)\r\n",
        "      i+=1\r\n",
        "    k=k+1\r\n",
        "  \r\n",
        "  return primes\r\n",
        "\r\n",
        "print(find_primes(5))\r\n",
        "print(find_primes(10))\r\n",
        "print(find_primes(20))\r\n"
      ],
      "execution_count": null,
      "outputs": [
        {
          "output_type": "stream",
          "text": [
            "[2, 3, 4, 5, 6]\n",
            "[2, 3, 4, 5, 6, 7, 8, 9, 10, 11]\n",
            "[2, 3, 4, 5, 6, 7, 8, 9, 10, 11, 12, 13, 14, 15, 16, 17, 18, 19, 20, 21]\n"
          ],
          "name": "stdout"
        }
      ]
    },
    {
      "cell_type": "markdown",
      "metadata": {
        "id": "-Vp0gk6db7J8"
      },
      "source": [
        "Python. Task4"
      ]
    },
    {
      "cell_type": "code",
      "metadata": {
        "colab": {
          "base_uri": "https://localhost:8080/"
        },
        "id": "efxQ16IBb_Wc",
        "outputId": "40afc21e-d464-4aba-ebc3-702902c15dc9"
      },
      "source": [
        "from random import randint\r\n",
        "def find_max(a,b,c):\r\n",
        "  _max=0\r\n",
        "  if a>b and a>c:\r\n",
        "    _max=a\r\n",
        "  elif b>c and b>a:\r\n",
        "    _max=b\r\n",
        "  else:\r\n",
        "    _max=c\r\n",
        "  return _max\r\n",
        "\r\n",
        "for i in range(10):\r\n",
        "\r\n",
        "  a = randint(-100,100)\r\n",
        "  b = randint(-100,100)\r\n",
        "  c = randint(-100,100)\r\n",
        "\r\n",
        "  print(a,b,c, '\\tMaximum:', find_max(a,b,c))  \r\n",
        "  "
      ],
      "execution_count": null,
      "outputs": [
        {
          "output_type": "stream",
          "text": [
            "-15 -16 -24 \tMaximum: -15\n",
            "22 -23 76 \tMaximum: 76\n",
            "-62 -24 -29 \tMaximum: -24\n",
            "57 46 7 \tMaximum: 57\n",
            "62 36 52 \tMaximum: 62\n",
            "-28 -8 -74 \tMaximum: -8\n",
            "48 -100 -3 \tMaximum: 48\n",
            "49 61 -81 \tMaximum: 61\n",
            "14 -70 14 \tMaximum: 14\n",
            "-59 -71 -50 \tMaximum: -50\n"
          ],
          "name": "stdout"
        }
      ]
    },
    {
      "cell_type": "markdown",
      "metadata": {
        "id": "GxRuyo2hevlB"
      },
      "source": [
        "# **Numpy. Task1**"
      ]
    },
    {
      "cell_type": "code",
      "metadata": {
        "colab": {
          "base_uri": "https://localhost:8080/"
        },
        "id": "V-QhQnowevTR",
        "outputId": "89267c2b-0731-4568-a6eb-3743fb4c3452"
      },
      "source": [
        "my_array = [np.random.rand() for i in range(10)]\r\n",
        "my_arraySum = np.sum(my_array)\r\n",
        "my_array=[2*i/my_arraySum for i in my_array]\r\n",
        "print(my_array)\r\n",
        "print(len(my_array))\r\n",
        "print(np.sum(my_array))"
      ],
      "execution_count": null,
      "outputs": [
        {
          "output_type": "stream",
          "text": [
            "[0.26474610202408094, 0.3466797570124185, 0.09607458571530908, 0.2866136115386503, 0.13176551176924547, 0.0351436610151817, 0.34204385965711304, 0.19910588933650228, 0.14970587880653502, 0.1481211431249641]\n",
            "10\n",
            "2.0000000000000004\n"
          ],
          "name": "stdout"
        }
      ]
    },
    {
      "cell_type": "markdown",
      "metadata": {
        "id": "ueq596_7zC0f"
      },
      "source": [
        "Numpy. Task2"
      ]
    },
    {
      "cell_type": "code",
      "metadata": {
        "colab": {
          "base_uri": "https://localhost:8080/"
        },
        "id": "fYlhMGVdzGIn",
        "outputId": "80938829-0b3e-4e1c-b4b6-328cab937b22"
      },
      "source": [
        "def cal_euclidean(a, b):    \r\n",
        "    distance = np.sum(np.square(a-b))\r\n",
        "    distance=np.sqrt(distance)\r\n",
        "    return distance\r\n",
        "\r\n",
        "def cal_manhattan(a, b):    \r\n",
        "    distance = np.sum(np.abs(a-b),axis=0)\r\n",
        "    return distance\r\n",
        "\r\n",
        "def cal_cosine(a, b):    \r\n",
        "    numerator = np.dot(a, b)\r\n",
        "    solve1 = np.sqrt(np.sum(np.square(a)))\r\n",
        "    solve2 = np.sqrt(np.sum(np.square(b)))\r\n",
        "    s = numerator/(solve1*solve2)\r\n",
        "    distance = 1 - s\r\n",
        "    return distance\r\n",
        "\r\n",
        "\r\n",
        "a = np.random.randint(-10, 10, size=10)\r\n",
        "b = np.random.randint(-10, 10, size=10)\r\n",
        "print(cal_euclidean(a, b))\r\n",
        "print(cal_manhattan(a, b))\r\n",
        "print(cal_cosine(a, b))"
      ],
      "execution_count": null,
      "outputs": [
        {
          "output_type": "stream",
          "text": [
            "23.727621035409346\n",
            "61\n",
            "0.8588013431478368\n"
          ],
          "name": "stdout"
        }
      ]
    },
    {
      "cell_type": "markdown",
      "metadata": {
        "id": "imMfnZMV6wrf"
      },
      "source": [
        "Numpy. Task3"
      ]
    },
    {
      "cell_type": "code",
      "metadata": {
        "colab": {
          "base_uri": "https://localhost:8080/"
        },
        "id": "STgXs60c6yyL",
        "outputId": "4b44f1f8-6335-4a3f-e8d0-a00bc722cadf"
      },
      "source": [
        "my_array = np.random.randint(2, size=100)\r\n",
        "my_array = np.linspace(0,1,100)\r\n",
        "print(np.max(my_array), np.min(my_array))\r\n",
        "print(my_array)"
      ],
      "execution_count": null,
      "outputs": [
        {
          "output_type": "stream",
          "text": [
            "1.0 0.0\n",
            "[0.         0.01010101 0.02020202 0.03030303 0.04040404 0.05050505\n",
            " 0.06060606 0.07070707 0.08080808 0.09090909 0.1010101  0.11111111\n",
            " 0.12121212 0.13131313 0.14141414 0.15151515 0.16161616 0.17171717\n",
            " 0.18181818 0.19191919 0.2020202  0.21212121 0.22222222 0.23232323\n",
            " 0.24242424 0.25252525 0.26262626 0.27272727 0.28282828 0.29292929\n",
            " 0.3030303  0.31313131 0.32323232 0.33333333 0.34343434 0.35353535\n",
            " 0.36363636 0.37373737 0.38383838 0.39393939 0.4040404  0.41414141\n",
            " 0.42424242 0.43434343 0.44444444 0.45454545 0.46464646 0.47474747\n",
            " 0.48484848 0.49494949 0.50505051 0.51515152 0.52525253 0.53535354\n",
            " 0.54545455 0.55555556 0.56565657 0.57575758 0.58585859 0.5959596\n",
            " 0.60606061 0.61616162 0.62626263 0.63636364 0.64646465 0.65656566\n",
            " 0.66666667 0.67676768 0.68686869 0.6969697  0.70707071 0.71717172\n",
            " 0.72727273 0.73737374 0.74747475 0.75757576 0.76767677 0.77777778\n",
            " 0.78787879 0.7979798  0.80808081 0.81818182 0.82828283 0.83838384\n",
            " 0.84848485 0.85858586 0.86868687 0.87878788 0.88888889 0.8989899\n",
            " 0.90909091 0.91919192 0.92929293 0.93939394 0.94949495 0.95959596\n",
            " 0.96969697 0.97979798 0.98989899 1.        ]\n"
          ],
          "name": "stdout"
        }
      ]
    },
    {
      "cell_type": "markdown",
      "metadata": {
        "id": "4mJf3IRJ5E2X"
      },
      "source": [
        "Numpy. Task4"
      ]
    },
    {
      "cell_type": "code",
      "metadata": {
        "id": "sGgXaxth5G5O",
        "colab": {
          "base_uri": "https://localhost:8080/"
        },
        "outputId": "dfdf751e-8536-4bf9-ef64-c6e050895210"
      },
      "source": [
        "my_array = np.random.randint(0,50,size=(5,6))\r\n",
        "selected_column = my_array[:, np.argmax(my_array.max(axis=0))]\r\n",
        "print('Shape: ',my_array.shape)\r\n",
        "print('Array')\r\n",
        "print(my_array)\r\n",
        "print(selected_column)"
      ],
      "execution_count": null,
      "outputs": [
        {
          "output_type": "stream",
          "text": [
            "Shape:  (5, 6)\n",
            "Array\n",
            "[[40 26 45 16 15 22]\n",
            " [ 7 18 42 38 46 44]\n",
            " [40 16 13 43 23 18]\n",
            " [19 34 23  0 13  2]\n",
            " [13 44  8 37  4 42]]\n",
            "[15 46 23 13  4]\n"
          ],
          "name": "stdout"
        }
      ]
    },
    {
      "cell_type": "markdown",
      "metadata": {
        "id": "Ckl-DIMiN5OP"
      },
      "source": [
        "Numpy.Task5"
      ]
    },
    {
      "cell_type": "code",
      "metadata": {
        "colab": {
          "base_uri": "https://localhost:8080/"
        },
        "id": "st8iiqZWN9Dd",
        "outputId": "ffb26fed-e836-4b02-ac3b-a60f2345612a"
      },
      "source": [
        "arr = np.random.rand(10)\r\n",
        "idx = np.random.randint(0, 10, 4)\r\n",
        "arr[idx] = np.nan\r\n",
        "print(arr)\r\n",
        "\r\n",
        "arr[np.where(np.isnan(arr))]=np.nanmean(arr,axis=0)\r\n",
        "print(arr)"
      ],
      "execution_count": null,
      "outputs": [
        {
          "output_type": "stream",
          "text": [
            "[0.50533143 0.18271171 0.47942543 0.92032284        nan 0.75566227\n",
            "        nan        nan 0.06088341 0.26565721]\n",
            "[0.50533143 0.18271171 0.47942543 0.92032284 0.45285633 0.75566227\n",
            " 0.45285633 0.45285633 0.06088341 0.26565721]\n"
          ],
          "name": "stdout"
        }
      ]
    },
    {
      "cell_type": "markdown",
      "metadata": {
        "id": "z7DbW-plvSle"
      },
      "source": [
        "Numpy.Task6\r\n"
      ]
    },
    {
      "cell_type": "code",
      "metadata": {
        "id": "f852BdgHvUaG",
        "colab": {
          "base_uri": "https://localhost:8080/"
        },
        "outputId": "2fb61bc7-6686-4ba3-97f9-f303c1687ebf"
      },
      "source": [
        "def mean_channel(X):\r\n",
        "    mean_vector = np.mean(X, axis=tuple(range(X.ndim-1)))\r\n",
        "    return mean_vector\r\n",
        "\r\n",
        "n = 28\r\n",
        "m = 16\r\n",
        "X = np.random.randint(-10, 10, size=(n,m,3))\r\n",
        "\r\n",
        "mean_channel(X)"
      ],
      "execution_count": null,
      "outputs": [
        {
          "output_type": "execute_result",
          "data": {
            "text/plain": [
              "array([-0.53571429, -1.18526786, -0.75446429])"
            ]
          },
          "metadata": {
            "tags": []
          },
          "execution_count": 11
        }
      ]
    },
    {
      "cell_type": "markdown",
      "metadata": {
        "id": "5J25xqKRyIHt"
      },
      "source": [
        "Numpy.Task7 "
      ]
    },
    {
      "cell_type": "code",
      "metadata": {
        "id": "97L3JIYLyKTU",
        "colab": {
          "base_uri": "https://localhost:8080/"
        },
        "outputId": "c3c2e28b-cd16-4277-eee4-c848f2a6561e"
      },
      "source": [
        "def get_unique_rows(X):\r\n",
        "    X_unique = np.unique(X, axis=0)\r\n",
        "    return X_unique\r\n",
        "\r\n",
        "X =  np.random.randint(4, 6, size=(n, 2, 2))\r\n",
        "print(X)\r\n",
        "\r\n",
        "get_unique_rows(X)"
      ],
      "execution_count": null,
      "outputs": [
        {
          "output_type": "stream",
          "text": [
            "[[[4 5]\n",
            "  [5 4]]\n",
            "\n",
            " [[4 5]\n",
            "  [4 4]]\n",
            "\n",
            " [[5 4]\n",
            "  [5 5]]\n",
            "\n",
            " [[4 4]\n",
            "  [5 4]]\n",
            "\n",
            " [[4 4]\n",
            "  [4 4]]\n",
            "\n",
            " [[5 4]\n",
            "  [5 5]]\n",
            "\n",
            " [[4 5]\n",
            "  [4 5]]\n",
            "\n",
            " [[4 5]\n",
            "  [4 5]]\n",
            "\n",
            " [[5 4]\n",
            "  [5 5]]\n",
            "\n",
            " [[4 5]\n",
            "  [5 4]]\n",
            "\n",
            " [[4 4]\n",
            "  [4 4]]\n",
            "\n",
            " [[5 5]\n",
            "  [4 5]]\n",
            "\n",
            " [[5 4]\n",
            "  [5 5]]\n",
            "\n",
            " [[5 4]\n",
            "  [5 4]]\n",
            "\n",
            " [[5 4]\n",
            "  [4 4]]\n",
            "\n",
            " [[5 5]\n",
            "  [4 4]]\n",
            "\n",
            " [[4 4]\n",
            "  [5 4]]\n",
            "\n",
            " [[5 4]\n",
            "  [5 4]]\n",
            "\n",
            " [[5 4]\n",
            "  [5 5]]\n",
            "\n",
            " [[4 4]\n",
            "  [4 4]]\n",
            "\n",
            " [[5 4]\n",
            "  [5 4]]\n",
            "\n",
            " [[5 4]\n",
            "  [4 5]]\n",
            "\n",
            " [[4 4]\n",
            "  [5 5]]\n",
            "\n",
            " [[4 5]\n",
            "  [4 4]]\n",
            "\n",
            " [[5 5]\n",
            "  [5 4]]\n",
            "\n",
            " [[5 4]\n",
            "  [4 5]]\n",
            "\n",
            " [[4 4]\n",
            "  [4 4]]\n",
            "\n",
            " [[5 5]\n",
            "  [5 4]]]\n"
          ],
          "name": "stdout"
        },
        {
          "output_type": "execute_result",
          "data": {
            "text/plain": [
              "array([[[4, 4],\n",
              "        [4, 4]],\n",
              "\n",
              "       [[4, 4],\n",
              "        [5, 4]],\n",
              "\n",
              "       [[4, 4],\n",
              "        [5, 5]],\n",
              "\n",
              "       [[4, 5],\n",
              "        [4, 4]],\n",
              "\n",
              "       [[4, 5],\n",
              "        [4, 5]],\n",
              "\n",
              "       [[4, 5],\n",
              "        [5, 4]],\n",
              "\n",
              "       [[5, 4],\n",
              "        [4, 4]],\n",
              "\n",
              "       [[5, 4],\n",
              "        [4, 5]],\n",
              "\n",
              "       [[5, 4],\n",
              "        [5, 4]],\n",
              "\n",
              "       [[5, 4],\n",
              "        [5, 5]],\n",
              "\n",
              "       [[5, 5],\n",
              "        [4, 4]],\n",
              "\n",
              "       [[5, 5],\n",
              "        [4, 5]],\n",
              "\n",
              "       [[5, 5],\n",
              "        [5, 4]]])"
            ]
          },
          "metadata": {
            "tags": []
          },
          "execution_count": 12
        }
      ]
    },
    {
      "cell_type": "markdown",
      "metadata": {
        "id": "S8ayBNFSyufY"
      },
      "source": [
        "# **Pandas & Visualization.Task1**"
      ]
    },
    {
      "cell_type": "code",
      "metadata": {
        "colab": {
          "base_uri": "https://localhost:8080/",
          "height": 195
        },
        "id": "_TabdLYHymaM",
        "outputId": "d0d408bf-3daf-4f07-f38a-5a2d48f30ad8"
      },
      "source": [
        "dataset=pd.read_csv('https://raw.githubusercontent.com/AKuzina/ml_se/main/hw/hw_1/titanic.csv',delimiter=',')\r\n",
        "# Are there any missing values? In what columns?\r\n",
        "np.round(dataset.isna().sum()[dataset.isna().sum()>0] / dataset.shape[0], 2)\r\n",
        "dataset.head()"
      ],
      "execution_count": 6,
      "outputs": [
        {
          "output_type": "execute_result",
          "data": {
            "text/html": [
              "<div>\n",
              "<style scoped>\n",
              "    .dataframe tbody tr th:only-of-type {\n",
              "        vertical-align: middle;\n",
              "    }\n",
              "\n",
              "    .dataframe tbody tr th {\n",
              "        vertical-align: top;\n",
              "    }\n",
              "\n",
              "    .dataframe thead th {\n",
              "        text-align: right;\n",
              "    }\n",
              "</style>\n",
              "<table border=\"1\" class=\"dataframe\">\n",
              "  <thead>\n",
              "    <tr style=\"text-align: right;\">\n",
              "      <th></th>\n",
              "      <th>PassengerId</th>\n",
              "      <th>Survived</th>\n",
              "      <th>Pclass</th>\n",
              "      <th>Name</th>\n",
              "      <th>Sex</th>\n",
              "      <th>Age</th>\n",
              "      <th>SibSp</th>\n",
              "      <th>Parch</th>\n",
              "      <th>Ticket</th>\n",
              "      <th>Fare</th>\n",
              "      <th>Cabin</th>\n",
              "      <th>Embarked</th>\n",
              "    </tr>\n",
              "  </thead>\n",
              "  <tbody>\n",
              "    <tr>\n",
              "      <th>0</th>\n",
              "      <td>1</td>\n",
              "      <td>0</td>\n",
              "      <td>3</td>\n",
              "      <td>Braund, Mr. Owen Harris</td>\n",
              "      <td>male</td>\n",
              "      <td>22.0</td>\n",
              "      <td>1</td>\n",
              "      <td>0</td>\n",
              "      <td>A/5 21171</td>\n",
              "      <td>7.2500</td>\n",
              "      <td>NaN</td>\n",
              "      <td>S</td>\n",
              "    </tr>\n",
              "    <tr>\n",
              "      <th>1</th>\n",
              "      <td>2</td>\n",
              "      <td>1</td>\n",
              "      <td>1</td>\n",
              "      <td>Cumings, Mrs. John Bradley (Florence Briggs Th...</td>\n",
              "      <td>female</td>\n",
              "      <td>38.0</td>\n",
              "      <td>1</td>\n",
              "      <td>0</td>\n",
              "      <td>PC 17599</td>\n",
              "      <td>71.2833</td>\n",
              "      <td>C85</td>\n",
              "      <td>C</td>\n",
              "    </tr>\n",
              "    <tr>\n",
              "      <th>2</th>\n",
              "      <td>3</td>\n",
              "      <td>1</td>\n",
              "      <td>3</td>\n",
              "      <td>Heikkinen, Miss. Laina</td>\n",
              "      <td>female</td>\n",
              "      <td>26.0</td>\n",
              "      <td>0</td>\n",
              "      <td>0</td>\n",
              "      <td>STON/O2. 3101282</td>\n",
              "      <td>7.9250</td>\n",
              "      <td>NaN</td>\n",
              "      <td>S</td>\n",
              "    </tr>\n",
              "    <tr>\n",
              "      <th>3</th>\n",
              "      <td>4</td>\n",
              "      <td>1</td>\n",
              "      <td>1</td>\n",
              "      <td>Futrelle, Mrs. Jacques Heath (Lily May Peel)</td>\n",
              "      <td>female</td>\n",
              "      <td>35.0</td>\n",
              "      <td>1</td>\n",
              "      <td>0</td>\n",
              "      <td>113803</td>\n",
              "      <td>53.1000</td>\n",
              "      <td>C123</td>\n",
              "      <td>S</td>\n",
              "    </tr>\n",
              "    <tr>\n",
              "      <th>4</th>\n",
              "      <td>5</td>\n",
              "      <td>0</td>\n",
              "      <td>3</td>\n",
              "      <td>Allen, Mr. William Henry</td>\n",
              "      <td>male</td>\n",
              "      <td>35.0</td>\n",
              "      <td>0</td>\n",
              "      <td>0</td>\n",
              "      <td>373450</td>\n",
              "      <td>8.0500</td>\n",
              "      <td>NaN</td>\n",
              "      <td>S</td>\n",
              "    </tr>\n",
              "  </tbody>\n",
              "</table>\n",
              "</div>"
            ],
            "text/plain": [
              "   PassengerId  Survived  Pclass  ...     Fare Cabin  Embarked\n",
              "0            1         0       3  ...   7.2500   NaN         S\n",
              "1            2         1       1  ...  71.2833   C85         C\n",
              "2            3         1       3  ...   7.9250   NaN         S\n",
              "3            4         1       1  ...  53.1000  C123         S\n",
              "4            5         0       3  ...   8.0500   NaN         S\n",
              "\n",
              "[5 rows x 12 columns]"
            ]
          },
          "metadata": {
            "tags": []
          },
          "execution_count": 6
        }
      ]
    },
    {
      "cell_type": "code",
      "metadata": {
        "colab": {
          "base_uri": "https://localhost:8080/"
        },
        "id": "EIyMBxvb1Z8K",
        "outputId": "94b117ae-48f6-4fab-d8a4-35d6ba8c2c1e"
      },
      "source": [
        "# Are there any missing values? In what columns?\r\n",
        "# Пропущенные значения находятся в Age, Cabin, Embarked. Больше всего пропущенных значений в столбце Cabin\r\n",
        "mis_value=np.round(dataset.isna().sum()[dataset.isna().sum()>0] / dataset.shape[0], 5)\r\n",
        "print(mis_value)\r\n",
        "features_with_na = dataset.isna().sum()[dataset.isna().sum() > 0] / dataset.shape[0]\r\n",
        "list_to_drop = features_with_na[features_with_na > 0.3].index.tolist()\r\n",
        "print(list_to_drop)\r\n",
        "\r\n",
        "#How many classes (pclass) were there on Tinanic? \r\n",
        "#Всего 3 класса\r\n",
        "TheNumberOf_Pclass=dataset['Pclass'].max()\r\n",
        "print('Кол-во классов:', TheNumberOf_Pclass)\r\n",
        "\r\n",
        "#What is the percentage of survived passengers? Are the classes balanced?\r\n",
        "# 38.38% выживших пассажиров, классы не сбалонсированны \r\n",
        "P_S = dataset[dataset['Survived'] == 1]\r\n",
        "P_D = dataset[dataset['Survived'] == 0]\r\n",
        "count_died = len(P_D)\r\n",
        "count_surv = len(P_S)\r\n",
        "sum = count_died+count_surv\r\n",
        "per = np.round((count_surv/sum)*100,2)\r\n",
        "print('Процент выживших:', per)\r\n",
        "\r\n",
        "#What is the average ticket fare?\r\n",
        "#Средняя стоимость билета 32.2\r\n",
        "mean_coast = dataset['Fare']\r\n",
        "print('Средняя стоимость билета:', np.round(mean_coast.mean(),2))\r\n",
        "\r\n",
        "#What what the most popular port of embarkation?\r\n",
        "#Самый поплуярный порт S - 644\r\n",
        "popular_port = dataset['Embarked'].value_counts()\r\n",
        "popular_port.index =['S','C','Q'] \r\n",
        "print(popular_port)\r\n",
        "pp_dict =  popular_port.to_dict()\r\n",
        "pp_max = max(pp_dict, key=pp_dict.get)\r\n",
        "print('Самый популярный порт:', pp_max)"
      ],
      "execution_count": null,
      "outputs": [
        {
          "output_type": "stream",
          "text": [
            "Age         0.19865\n",
            "Cabin       0.77104\n",
            "Embarked    0.00224\n",
            "dtype: float64\n",
            "['Cabin']\n",
            "Кол-во классов: 3\n",
            "Процент выживших: 38.38\n",
            "Средняя стоимость билета: 32.2\n",
            "S    644\n",
            "C    168\n",
            "Q     77\n",
            "Name: Embarked, dtype: int64\n",
            "Самый популярный порт: S\n"
          ],
          "name": "stdout"
        }
      ]
    },
    {
      "cell_type": "markdown",
      "metadata": {
        "id": "8S6uHtJzF4B3"
      },
      "source": [
        "Pandas & Visualization.Task2 "
      ]
    },
    {
      "cell_type": "code",
      "metadata": {
        "colab": {
          "base_uri": "https://localhost:8080/",
          "height": 848
        },
        "id": "leE5vtZ_F7aQ",
        "outputId": "3869ad39-436a-41af-9695-f5b6458d684d"
      },
      "source": [
        "#How many are there unique titles?\r\n",
        "dataset['Title'] = dataset.Name.apply(lambda x: re.search(' ([A-Z][a-z]+)\\.', x).group(1))\r\n",
        "\r\n",
        "plt.figure(figsize=(12,5))\r\n",
        "\r\n",
        "sns.countplot(x='Title', data=dataset, palette=\"hls\")\r\n",
        "plt.xlabel(\"Title\", fontsize=16)\r\n",
        "plt.ylabel(\"Count\", fontsize=16)\r\n",
        "plt.title(\"Title Count\", fontsize=20)\r\n",
        "plt.xticks(rotation=45)\r\n",
        "plt.show()\r\n",
        "print('Кол-во уникальных статусов:', dataset['Title'].nunique())\r\n",
        "#How many are there passengers with every title?\r\n",
        "print('Кол-во титулов у пассажиров:')\r\n",
        "a = dataset.groupby(['Sex','Title'])['PassengerId'].agg(['count'])\r\n",
        "print(a)\r\n",
        "#What is the most popular man's title? And woman's title?\r\n",
        "grouped_titles = dataset.groupby(['Sex', 'Title'])['PassengerId'].agg(['count'])\r\n",
        "agg_titles = grouped_titles.reset_index(level='Sex').groupby('Sex')['count'].idxmax().reset_index(name='PassengerId')\r\n",
        "#Самые популярные статусы у мужчин Mr, а у женщин Miss\r\n",
        "agg_titles"
      ],
      "execution_count": 8,
      "outputs": [
        {
          "output_type": "display_data",
          "data": {
            "image/png": "[encoded data removed]",
            "text/plain": [
              "<Figure size 864x360 with 1 Axes>"
            ]
          },
          "metadata": {
            "tags": [],
            "needs_background": "light"
          }
        },
        {
          "output_type": "stream",
          "text": [
            "Кол-во уникальных статусов: 17\n",
            "Кол-во титулов у пассажиров:\n",
            "                 count\n",
            "Sex    Title          \n",
            "female Countess      1\n",
            "       Dr            1\n",
            "       Lady          1\n",
            "       Miss        182\n",
            "       Mlle          2\n",
            "       Mme           1\n",
            "       Mrs         125\n",
            "       Ms            1\n",
            "male   Capt          1\n",
            "       Col           2\n",
            "       Don           1\n",
            "       Dr            6\n",
            "       Jonkheer      1\n",
            "       Major         2\n",
            "       Master       40\n",
            "       Mr          517\n",
            "       Rev           6\n",
            "       Sir           1\n"
          ],
          "name": "stdout"
        },
        {
          "output_type": "execute_result",
          "data": {
            "text/html": [
              "<div>\n",
              "<style scoped>\n",
              "    .dataframe tbody tr th:only-of-type {\n",
              "        vertical-align: middle;\n",
              "    }\n",
              "\n",
              "    .dataframe tbody tr th {\n",
              "        vertical-align: top;\n",
              "    }\n",
              "\n",
              "    .dataframe thead th {\n",
              "        text-align: right;\n",
              "    }\n",
              "</style>\n",
              "<table border=\"1\" class=\"dataframe\">\n",
              "  <thead>\n",
              "    <tr style=\"text-align: right;\">\n",
              "      <th></th>\n",
              "      <th>Sex</th>\n",
              "      <th>PassengerId</th>\n",
              "    </tr>\n",
              "  </thead>\n",
              "  <tbody>\n",
              "    <tr>\n",
              "      <th>0</th>\n",
              "      <td>female</td>\n",
              "      <td>Miss</td>\n",
              "    </tr>\n",
              "    <tr>\n",
              "      <th>1</th>\n",
              "      <td>male</td>\n",
              "      <td>Mr</td>\n",
              "    </tr>\n",
              "  </tbody>\n",
              "</table>\n",
              "</div>"
            ],
            "text/plain": [
              "      Sex PassengerId\n",
              "0  female        Miss\n",
              "1    male          Mr"
            ]
          },
          "metadata": {
            "tags": []
          },
          "execution_count": 8
        }
      ]
    },
    {
      "cell_type": "markdown",
      "metadata": {
        "id": "6qOxNdPjMYzc"
      },
      "source": [
        "Pandas & Visualization.Task3"
      ]
    },
    {
      "cell_type": "code",
      "metadata": {
        "colab": {
          "base_uri": "https://localhost:8080/",
          "height": 453
        },
        "id": "CaAjkIV4Mcws",
        "outputId": "f68d275d-c946-47ea-c0d9-75a926559d2f"
      },
      "source": [
        "#What is the minimal and maximum ages of the passengers? Visualize it on the plot\r\n",
        "# минималный возраст 4 месяца, максимальный 80 лет\r\n",
        "plt.figure(figsize=(12,8))\r\n",
        "sns.displot(dataset, x='Age', kde=True)\r\n",
        "plt.xlabel('Count')\r\n",
        "plt.ylabel('Age')\r\n",
        "min_age = dataset['Age'].min()\r\n",
        "plt.axhline(min_age, color='g', linestyle='--')\r\n",
        "max_age = dataset['Age'].max()\r\n",
        "plt.axhline(max_age, color='y', linestyle='--')\r\n",
        "print('Минимальный возраст:', min_age)\r\n",
        "print('Максимальный возраст:', max_age)\r\n",
        "\r\n",
        "#What is the mean age? Visualize it on the plot\r\n",
        "#средний возраст 29.7, а медиана 28\r\n",
        "mean_age = np.round(dataset['Age'].mean(),1)\r\n",
        "median_age = dataset['Age'].median()\r\n",
        "plt.axhline(mean_age, color='r', linestyle='--')\r\n",
        "print('Cредний возраст:',mean_age)\r\n",
        "print('Медиана:',median_age)\r\n",
        "\r\n",
        "#Make conclusions about what you see on the plot\r\n",
        "#Данный график показывает кол-во людей, которые были на борту, а также их возраст: минимальный, максимальный и средний.\r\n",
        "#Средний возраст почти равняется медиане данного графика"
      ],
      "execution_count": null,
      "outputs": [
        {
          "output_type": "stream",
          "text": [
            "Минимальный возраст: 0.42\n",
            "Максимальный возраст: 80.0\n",
            "Cредний возраст: 29.7\n",
            "Медиана: 28.0\n"
          ],
          "name": "stdout"
        },
        {
          "output_type": "display_data",
          "data": {
            "text/plain": [
              "<Figure size 864x576 with 0 Axes>"
            ]
          },
          "metadata": {
            "tags": []
          }
        },
        {
          "output_type": "display_data",
          "data": {
            "image/png": "[encoded data removed]",
            "text/plain": [
              "<Figure size 360x360 with 1 Axes>"
            ]
          },
          "metadata": {
            "tags": [],
            "needs_background": "light"
          }
        }
      ]
    },
    {
      "cell_type": "markdown",
      "metadata": {
        "id": "5DYZMivgWPk2"
      },
      "source": [
        "Pandas & Visualization.Task4 "
      ]
    },
    {
      "cell_type": "code",
      "metadata": {
        "colab": {
          "base_uri": "https://localhost:8080/",
          "height": 386
        },
        "id": "6653uUBcWSO-",
        "outputId": "0d78bddc-fb64-4040-96fe-e659bd2bebde"
      },
      "source": [
        "sns.displot(dataset, x=\"Age\", col=\"Survived\", kde=True, binwidth=3)\r\n",
        "plt.axhline(35, color='g', linestyle='--')\r\n",
        "#Можно сделать вывод, что большинство людей, которым старше 35 лет умерли"
      ],
      "execution_count": null,
      "outputs": [
        {
          "output_type": "execute_result",
          "data": {
            "text/plain": [
              "<matplotlib.lines.Line2D at 0x7f34e7020668>"
            ]
          },
          "metadata": {
            "tags": []
          },
          "execution_count": 17
        },
        {
          "output_type": "display_data",
          "data": {
            "image/png": "[encoded data removed]",
            "text/plain": [
              "<Figure size 720x360 with 2 Axes>"
            ]
          },
          "metadata": {
            "tags": [],
            "needs_background": "light"
          }
        }
      ]
    },
    {
      "cell_type": "markdown",
      "metadata": {
        "id": "tpUkCtimp0gY"
      },
      "source": [
        "Pandas & Visualization.Task5"
      ]
    },
    {
      "cell_type": "code",
      "metadata": {
        "colab": {
          "base_uri": "https://localhost:8080/",
          "height": 534
        },
        "id": "ABkDn3ppp3rW",
        "outputId": "aca58124-8270-4967-956b-0bec992efd17"
      },
      "source": [
        "plt.figure(figsize=(40,40))\r\n",
        "sns.displot(dataset, x=\"Fare\", hue=\"Embarked\", kind='ecdf')\r\n",
        "dataset.groupby(['Embarked'])['Fare'].agg(['mean'])\r\n",
        "#Вывод: По данному графику можно сказать, что порт 'С' самый популярный порт, по сравнению с другими\r\n"
      ],
      "execution_count": null,
      "outputs": [
        {
          "output_type": "execute_result",
          "data": {
            "text/html": [
              "<div>\n",
              "<style scoped>\n",
              "    .dataframe tbody tr th:only-of-type {\n",
              "        vertical-align: middle;\n",
              "    }\n",
              "\n",
              "    .dataframe tbody tr th {\n",
              "        vertical-align: top;\n",
              "    }\n",
              "\n",
              "    .dataframe thead th {\n",
              "        text-align: right;\n",
              "    }\n",
              "</style>\n",
              "<table border=\"1\" class=\"dataframe\">\n",
              "  <thead>\n",
              "    <tr style=\"text-align: right;\">\n",
              "      <th></th>\n",
              "      <th>mean</th>\n",
              "    </tr>\n",
              "    <tr>\n",
              "      <th>Embarked</th>\n",
              "      <th></th>\n",
              "    </tr>\n",
              "  </thead>\n",
              "  <tbody>\n",
              "    <tr>\n",
              "      <th>C</th>\n",
              "      <td>59.954144</td>\n",
              "    </tr>\n",
              "    <tr>\n",
              "      <th>Q</th>\n",
              "      <td>13.276030</td>\n",
              "    </tr>\n",
              "    <tr>\n",
              "      <th>S</th>\n",
              "      <td>27.079812</td>\n",
              "    </tr>\n",
              "  </tbody>\n",
              "</table>\n",
              "</div>"
            ],
            "text/plain": [
              "               mean\n",
              "Embarked           \n",
              "C         59.954144\n",
              "Q         13.276030\n",
              "S         27.079812"
            ]
          },
          "metadata": {
            "tags": []
          },
          "execution_count": 20
        },
        {
          "output_type": "display_data",
          "data": {
            "text/plain": [
              "<Figure size 2880x2880 with 0 Axes>"
            ]
          },
          "metadata": {
            "tags": []
          }
        },
        {
          "output_type": "display_data",
          "data": {
            "image/png": "[encoded data removed]",
            "text/plain": [
              "<Figure size 418.25x360 with 1 Axes>"
            ]
          },
          "metadata": {
            "tags": [],
            "needs_background": "light"
          }
        }
      ]
    },
    {
      "cell_type": "markdown",
      "metadata": {
        "id": "X_sQlBANMICK"
      },
      "source": [
        "Pandas & Visualization.Task6"
      ]
    },
    {
      "cell_type": "code",
      "metadata": {
        "id": "PH0WcYp4MCH9",
        "colab": {
          "base_uri": "https://localhost:8080/"
        },
        "outputId": "e5867dd1-9e31-456f-9091-bf6ac29bcf59"
      },
      "source": [
        "column_1 = dataset[\"Pclass\"]\r\n",
        "column_2 = dataset[\"Fare\"]\r\n",
        "correlation = column_1.corr(column_2)\r\n",
        "print(correlation)\r\n",
        "#У данной зависимости слабая обратная связь\r\n"
      ],
      "execution_count": null,
      "outputs": [
        {
          "output_type": "stream",
          "text": [
            "-0.5494996199439075\n"
          ],
          "name": "stdout"
        }
      ]
    }
  ]
}